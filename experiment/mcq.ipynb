{
 "cells": [
  {
   "cell_type": "code",
   "execution_count": 5,
   "id": "d08499f2",
   "metadata": {},
   "outputs": [],
   "source": [
    "import os\n",
    "import json\n",
    "import pandas as pd\n",
    "from PyPDF2 import PdfReader\n",
    "import traceback"
   ]
  },
  {
   "cell_type": "code",
   "execution_count": 6,
   "id": "251a5da5",
   "metadata": {},
   "outputs": [
    {
     "name": "stdout",
     "output_type": "stream",
     "text": [
      "c:\\Users\\PMLS\\envs\\myenv\\python.exe\n"
     ]
    }
   ],
   "source": [
    "import sys\n",
    "print(sys.executable)"
   ]
  },
  {
   "cell_type": "code",
   "execution_count": 7,
   "id": "aea13d60",
   "metadata": {},
   "outputs": [
    {
     "name": "stdout",
     "output_type": "stream",
     "text": [
      "API key loaded: sk-proj-lw ...\n"
     ]
    }
   ],
   "source": [
    "\n",
    "from dotenv import load_dotenv\n",
    "import os\n",
    "\n",
    "# Load variables from .env\n",
    "load_dotenv()\n",
    "\n",
    "print(\"API key loaded:\", os.getenv(\"OPENAI_API_KEY\")[:10], \"...\")"
   ]
  },
  {
   "cell_type": "code",
   "execution_count": 8,
   "id": "d8da3b7b",
   "metadata": {},
   "outputs": [],
   "source": [
    "from langchain.chat_models import ChatOpenAI,openai\n",
    "from langchain.prompts import ChatPromptTemplate, HumanMessagePromptTemplate"
   ]
  },
  {
   "cell_type": "code",
   "execution_count": 13,
   "id": "0975497c",
   "metadata": {},
   "outputs": [],
   "source": [
    "key=os.getenv(\"OPENAI_API_KEY\")"
   ]
  },
  {
   "cell_type": "code",
   "execution_count": 14,
   "id": "7b134911",
   "metadata": {},
   "outputs": [],
   "source": [
    "import os\n",
    "llm=ChatOpenAI(\n",
    "    model=\"gpt-4o-mini-2024-07-18\",\n",
    "    api_key=key,\n",
    "    max_tokens=2000  \n",
    ")\n",
    "\n"
   ]
  },
  {
   "cell_type": "code",
   "execution_count": 15,
   "id": "e7167434",
   "metadata": {},
   "outputs": [],
   "source": [
    "from langchain.llms import OpenAI\n",
    "from langchain.prompts import PromptTemplate    \n",
    "from langchain.chains import LLMChain\n",
    "from langchain.chains import SequentialChain\n",
    "from langchain.callbacks import get_openai_callback\n",
    "import PyPDF2\n",
    "\n"
   ]
  },
  {
   "cell_type": "code",
   "execution_count": 16,
   "id": "e2532bf5",
   "metadata": {},
   "outputs": [],
   "source": [
    "TEMPLATE=\"\"\"\"\"Text: {text}\" \\\n",
    "\"You are an expert in creating engaging and challenging multiple choice questions (MCQs) for educational purposes.\\\n",
    "\"Generate {number} multiple choice questions (MCQs) in the subject of {subject} in tone of {tone}.\\\" \\\n",
    "\"Each question should have 4 options (A, B, C, D) with one correct answer.\\\" \\\n",
    "\"Provide the output in the following JSON format: {response_json}.\" \\\n",
    "\"Ensure the questions are clear, concise, and relevant to the provided text. Questions should not be repeated\" \\\" \\\n",
    "\"Ensure to make {number}    MCQs.\\\" \"\"\""
   ]
  },
  {
   "cell_type": "code",
   "execution_count": 17,
   "id": "eecb5e71",
   "metadata": {},
   "outputs": [],
   "source": [
    "response_json={\n",
    "    \"1\": {\n",
    "        \"question\": \"string\",\n",
    "        \"options\": {\n",
    "            \"A\": \"string\",\n",
    "            \"B\": \"string\",\n",
    "            \"C\": \"string\",\n",
    "            \"D\": \"string\"\n",
    "        },\n",
    "        \" correct answer\": \"string\"\n",
    "    },\n",
    "    \"2\": \n",
    "         {\n",
    "        \"question\": \"string\",\n",
    "        \"options\": {\n",
    "            \"A\": \"string\",\n",
    "            \"B\": \"string\",\n",
    "            \"C\": \"string\",\n",
    "            \"D\": \"string\"\n",
    "        },\n",
    "        \" correct answer\": \"string\"\n",
    "    },\n",
    "    \"3\": {\n",
    "        \"question\": \"string\",\n",
    "        \"options\": {\n",
    "            \"A\": \"string\",\n",
    "            \"B\": \"string\",\n",
    "            \"C\": \"string\",\n",
    "            \"D\": \"string\"\n",
    "        },\n",
    "        \" correct answer\": \"string\"\n",
    "    }\n",
    "}"
   ]
  },
  {
   "cell_type": "code",
   "execution_count": 18,
   "id": "e83dc188",
   "metadata": {},
   "outputs": [],
   "source": [
    "quiz_prompt=PromptTemplate(\n",
    "    input_variables=[\"text\",\"number\",\"subject\",\"tone\",\"response_json\"],\n",
    "    template=TEMPLATE)"
   ]
  },
  {
   "cell_type": "code",
   "execution_count": 19,
   "id": "ba25d192",
   "metadata": {},
   "outputs": [
    {
     "name": "stderr",
     "output_type": "stream",
     "text": [
      "C:\\Users\\PMLS\\AppData\\Local\\Temp\\ipykernel_7616\\2504320390.py:1: LangChainDeprecationWarning: The class `LLMChain` was deprecated in LangChain 0.1.17 and will be removed in 1.0. Use RunnableSequence, e.g., `prompt | llm` instead.\n",
      "  quiz_chain=LLMChain(llm=llm,prompt=quiz_prompt,output_key=\"quiz\",verbose=True)\n"
     ]
    }
   ],
   "source": [
    "quiz_chain=LLMChain(llm=llm,prompt=quiz_prompt,output_key=\"quiz\",verbose=True)"
   ]
  },
  {
   "cell_type": "code",
   "execution_count": 20,
   "id": "d8bb0f91",
   "metadata": {},
   "outputs": [],
   "source": [
    "TEMPLATE2=\"\"\"You are an english expert. Giver multiple choice questions (MCQs) for {subject} \\\" \\\n",
    "\"You need to evaluate the complexity of the questions \" \\\" \\\n",
    "\"Update the quiz questions which needs to be simplified or made complex based on the complexity level \\\" \\\" \\\n",
    "\"Quiz mcqs: {quiz} \\\" \n",
    "you can check from above quiz mcqs and update the questions \"\"\""
   ]
  },
  {
   "cell_type": "code",
   "execution_count": 21,
   "id": "b027230f",
   "metadata": {},
   "outputs": [],
   "source": [
    "quiz_evaluate_prompt=PromptTemplate(\n",
    "    input_variables=[\"quiz\",\"subject\"],\n",
    "    template=TEMPLATE2)"
   ]
  },
  {
   "cell_type": "code",
   "execution_count": 22,
   "id": "71a7df92",
   "metadata": {},
   "outputs": [],
   "source": [
    "review_chain=LLMChain(llm=llm,prompt=quiz_evaluate_prompt,output_key=\"reviewed_quiz\",verbose=True)"
   ]
  },
  {
   "cell_type": "code",
   "execution_count": 23,
   "id": "d155f136",
   "metadata": {},
   "outputs": [],
   "source": [
    "generate_evaluate_chain=SequentialChain(\n",
    "    chains=[quiz_chain,review_chain],\n",
    "    input_variables=[\"text\",\"number\",\"subject\",\"tone\",\"response_json\"],\n",
    "    output_variables=[\"quiz\",\"reviewed_quiz\"],\n",
    "    verbose=True)"
   ]
  },
  {
   "cell_type": "code",
   "execution_count": 24,
   "id": "5260a928",
   "metadata": {},
   "outputs": [],
   "source": [
    "file_path = 'D:\\MCQ-GenAI\\data.txt'"
   ]
  },
  {
   "cell_type": "code",
   "execution_count": 25,
   "id": "a9a99553",
   "metadata": {},
   "outputs": [],
   "source": [
    "with open(file_path, 'r') as file:\n",
    "    text = file.read()\n",
    "    "
   ]
  },
  {
   "cell_type": "code",
   "execution_count": 26,
   "id": "68ea4f46",
   "metadata": {},
   "outputs": [
    {
     "name": "stdout",
     "output_type": "stream",
     "text": [
      "The term machine learning was coined in 1959 by Arthur Samuel, an IBM employee and pioneer in the field of computer gaming and artificial intelligence.\n",
      " The synonym self-teaching computers was also used in this time period.\n",
      "\n",
      "The earliest machine learning program was introduced in the 1950s when Arthur Samuel invented a computer program that calculated the winning chance in checkers for each side, but the history of machine learning roots back to decades of human desire and effort to study human cognitive processes.[10] In 1949, Canadian psychologist Donald Hebb published the book The Organization of Behavior, in which he introduced a theoretical neural structure formed by certain interactions among nerve cells.[11] Hebb's model of neurons interacting with one another set a groundwork for how AIs and machine learning algorithms work under nodes, or artificial neurons used by computers to communicate data.[10] Other researchers who have studied human cognitive systems contributed to the modern machine learning technologies as well, including logician Walter Pitts and Warren McCulloch, who proposed the early mathematical models of neural networks to come up with algorithms that mirror human thought processes.\n",
      "\n",
      "By the early 1960s, an experimental \"learning machine\" with punched tape memory, called Cybertron, had been developed by Raytheon Company to analyse sonar signals, electrocardiograms, and speech patterns using rudimentary reinforcement learning. It was repetitively \"trained\" by a human operator/teacher to recognise patterns and equipped with a \"goof\" button to cause it to reevaluate incorrect decisions.[12] A representative book on research into machine learning during the 1960s was Nilsson's book on Learning Machines, dealing mostly with machine learning for pattern classification.[13] Interest related to pattern recognition continued into the 1970s, as described by Duda and Hart in 1973.[14] In 1981 a report was given on using teaching strategies so that an artificial neural network learns to recognise 40 characters (26 letters, 10 digits, and 4 special symbols) from a computer terminal.\n",
      "\n",
      "Tom M. Mitchell provided a widely quoted, more formal definition of the algorithms studied in the machine learning field: \"A computer program is said to learn from experience E with respect to some class of tasks T and performance measure P if its performance at tasks in T, as measured by P, improves with experience E.\"[16] This definition of the tasks in which machine learning is concerned offers a fundamentally operational definition rather than defining the field in cognitive terms. This follows Alan Turing's proposal in his paper \"Computing Machinery and Intelligence\", in which the question \"Can machines think?\" is replaced with the question \"Can machines do what we (as thinking entities) can do?\".\n",
      "\n",
      "Modern day Machine Learning algorithms are broken into 3 algorithms types: Supervised Learning Algorithms, Unsupervised Learning Algorithms, and Reinforcement Learning Algorithms.\n",
      "\n",
      "Current Supervised Learning Algorithms have objectives of classification and regression.\n",
      "Current Unsupervised Learning Algorithms have objectives of clustering, dimensionality reduction, and association rule.\n",
      "Current Reinforcement Learning Algorithms focus on decisions that must be made with respect to some previous, unkown time and are broken down to either be studies of model based methods, and model free methods.\n"
     ]
    }
   ],
   "source": [
    "print(text)\n"
   ]
  },
  {
   "cell_type": "code",
   "execution_count": 27,
   "id": "54725697",
   "metadata": {},
   "outputs": [
    {
     "data": {
      "text/plain": [
       "'{\"1\": {\"question\": \"string\", \"options\": {\"A\": \"string\", \"B\": \"string\", \"C\": \"string\", \"D\": \"string\"}, \" correct answer\": \"string\"}, \"2\": {\"question\": \"string\", \"options\": {\"A\": \"string\", \"B\": \"string\", \"C\": \"string\", \"D\": \"string\"}, \" correct answer\": \"string\"}, \"3\": {\"question\": \"string\", \"options\": {\"A\": \"string\", \"B\": \"string\", \"C\": \"string\", \"D\": \"string\"}, \" correct answer\": \"string\"}}'"
      ]
     },
     "execution_count": 27,
     "metadata": {},
     "output_type": "execute_result"
    }
   ],
   "source": [
    "json.dumps(response_json)"
   ]
  },
  {
   "cell_type": "code",
   "execution_count": 28,
   "id": "bf98e312",
   "metadata": {},
   "outputs": [],
   "source": [
    "number=5\n",
    "subject=\"Machine Learning\"\n",
    "tone=\"simple\""
   ]
  },
  {
   "cell_type": "code",
   "execution_count": 29,
   "id": "e05221fe",
   "metadata": {},
   "outputs": [
    {
     "name": "stderr",
     "output_type": "stream",
     "text": [
      "C:\\Users\\PMLS\\AppData\\Local\\Temp\\ipykernel_7616\\3371434376.py:5: LangChainDeprecationWarning: The method `Chain.__call__` was deprecated in langchain 0.1.0 and will be removed in 1.0. Use invoke instead.\n",
      "  response=generate_evaluate_chain(\n",
      "Error in StdOutCallbackHandler.on_chain_start callback: AttributeError(\"'NoneType' object has no attribute 'get'\")\n",
      "Error in StdOutCallbackHandler.on_chain_start callback: AttributeError(\"'NoneType' object has no attribute 'get'\")\n"
     ]
    },
    {
     "name": "stdout",
     "output_type": "stream",
     "text": [
      "Prompt after formatting:\n",
      "\u001b[32;1m\u001b[1;3m\"\"Text: The term machine learning was coined in 1959 by Arthur Samuel, an IBM employee and pioneer in the field of computer gaming and artificial intelligence.\n",
      " The synonym self-teaching computers was also used in this time period.\n",
      "\n",
      "The earliest machine learning program was introduced in the 1950s when Arthur Samuel invented a computer program that calculated the winning chance in checkers for each side, but the history of machine learning roots back to decades of human desire and effort to study human cognitive processes.[10] In 1949, Canadian psychologist Donald Hebb published the book The Organization of Behavior, in which he introduced a theoretical neural structure formed by certain interactions among nerve cells.[11] Hebb's model of neurons interacting with one another set a groundwork for how AIs and machine learning algorithms work under nodes, or artificial neurons used by computers to communicate data.[10] Other researchers who have studied human cognitive systems contributed to the modern machine learning technologies as well, including logician Walter Pitts and Warren McCulloch, who proposed the early mathematical models of neural networks to come up with algorithms that mirror human thought processes.\n",
      "\n",
      "By the early 1960s, an experimental \"learning machine\" with punched tape memory, called Cybertron, had been developed by Raytheon Company to analyse sonar signals, electrocardiograms, and speech patterns using rudimentary reinforcement learning. It was repetitively \"trained\" by a human operator/teacher to recognise patterns and equipped with a \"goof\" button to cause it to reevaluate incorrect decisions.[12] A representative book on research into machine learning during the 1960s was Nilsson's book on Learning Machines, dealing mostly with machine learning for pattern classification.[13] Interest related to pattern recognition continued into the 1970s, as described by Duda and Hart in 1973.[14] In 1981 a report was given on using teaching strategies so that an artificial neural network learns to recognise 40 characters (26 letters, 10 digits, and 4 special symbols) from a computer terminal.\n",
      "\n",
      "Tom M. Mitchell provided a widely quoted, more formal definition of the algorithms studied in the machine learning field: \"A computer program is said to learn from experience E with respect to some class of tasks T and performance measure P if its performance at tasks in T, as measured by P, improves with experience E.\"[16] This definition of the tasks in which machine learning is concerned offers a fundamentally operational definition rather than defining the field in cognitive terms. This follows Alan Turing's proposal in his paper \"Computing Machinery and Intelligence\", in which the question \"Can machines think?\" is replaced with the question \"Can machines do what we (as thinking entities) can do?\".\n",
      "\n",
      "Modern day Machine Learning algorithms are broken into 3 algorithms types: Supervised Learning Algorithms, Unsupervised Learning Algorithms, and Reinforcement Learning Algorithms.\n",
      "\n",
      "Current Supervised Learning Algorithms have objectives of classification and regression.\n",
      "Current Unsupervised Learning Algorithms have objectives of clustering, dimensionality reduction, and association rule.\n",
      "Current Reinforcement Learning Algorithms focus on decisions that must be made with respect to some previous, unkown time and are broken down to either be studies of model based methods, and model free methods.\" \"You are an expert in creating engaging and challenging multiple choice questions (MCQs) for educational purposes.\"Generate 5 multiple choice questions (MCQs) in the subject of Machine Learning in tone of simple.\" \"Each question should have 4 options (A, B, C, D) with one correct answer.\" \"Provide the output in the following JSON format: {\"1\": {\"question\": \"string\", \"options\": {\"A\": \"string\", \"B\": \"string\", \"C\": \"string\", \"D\": \"string\"}, \" correct answer\": \"string\"}, \"2\": {\"question\": \"string\", \"options\": {\"A\": \"string\", \"B\": \"string\", \"C\": \"string\", \"D\": \"string\"}, \" correct answer\": \"string\"}, \"3\": {\"question\": \"string\", \"options\": {\"A\": \"string\", \"B\": \"string\", \"C\": \"string\", \"D\": \"string\"}, \" correct answer\": \"string\"}}.\" \"Ensure the questions are clear, concise, and relevant to the provided text. Questions should not be repeated\" \" \"Ensure to make 5    MCQs.\" \u001b[0m\n"
     ]
    },
    {
     "name": "stderr",
     "output_type": "stream",
     "text": [
      "Error in StdOutCallbackHandler.on_chain_start callback: AttributeError(\"'NoneType' object has no attribute 'get'\")\n"
     ]
    },
    {
     "name": "stdout",
     "output_type": "stream",
     "text": [
      "\n",
      "\u001b[1m> Finished chain.\u001b[0m\n",
      "Prompt after formatting:\n",
      "\u001b[32;1m\u001b[1;3mYou are an english expert. Giver multiple choice questions (MCQs) for Machine Learning \" \"You need to evaluate the complexity of the questions \" \" \"Update the quiz questions which needs to be simplified or made complex based on the complexity level \" \" \"Quiz mcqs: ```json\n",
      "{\n",
      "    \"1\": {\n",
      "        \"question\": \"Who coined the term 'machine learning'?\",\n",
      "        \"options\": {\n",
      "            \"A\": \"Donald Hebb\",\n",
      "            \"B\": \"Tom M. Mitchell\",\n",
      "            \"C\": \"Arthur Samuel\",\n",
      "            \"D\": \"Walter Pitts\"\n",
      "        },\n",
      "        \"correct answer\": \"C\"\n",
      "    },\n",
      "    \"2\": {\n",
      "        \"question\": \"What type of learning did the Cybertron machine use?\",\n",
      "        \"options\": {\n",
      "            \"A\": \"Supervised Learning\",\n",
      "            \"B\": \"Unsupervised Learning\",\n",
      "            \"C\": \"Reinforcement Learning\",\n",
      "            \"D\": \"Deep Learning\"\n",
      "        },\n",
      "        \"correct answer\": \"C\"\n",
      "    },\n",
      "    \"3\": {\n",
      "        \"question\": \"Which algorithm type focuses on classification and regression?\",\n",
      "        \"options\": {\n",
      "            \"A\": \"Unsupervised Learning Algorithms\",\n",
      "            \"B\": \"Reinforcement Learning Algorithms\",\n",
      "            \"C\": \"Supervised Learning Algorithms\",\n",
      "            \"D\": \"Neural Networks\"\n",
      "        },\n",
      "        \"correct answer\": \"C\"\n",
      "    },\n",
      "    \"4\": {\n",
      "        \"question\": \"What book did Tom M. Mitchell provide a formal definition for machine learning?\",\n",
      "        \"options\": {\n",
      "            \"A\": \"The Organization of Behavior\",\n",
      "            \"B\": \"Learning Machines\",\n",
      "            \"C\": \"Computing Machinery and Intelligence\",\n",
      "            \"D\": \"Patterns in Machine Learning\"\n",
      "        },\n",
      "        \"correct answer\": \"B\"\n",
      "    },\n",
      "    \"5\": {\n",
      "        \"question\": \"What is the objective of Unsupervised Learning Algorithms?\",\n",
      "        \"options\": {\n",
      "            \"A\": \"Classification\",\n",
      "            \"B\": \"Clustering\",\n",
      "            \"C\": \"Regression\",\n",
      "            \"D\": \"Pattern Recognition\"\n",
      "        },\n",
      "        \"correct answer\": \"B\"\n",
      "    }\n",
      "}\n",
      "``` \" \n",
      "you can check from above quiz mcqs and update the questions \u001b[0m\n",
      "\n",
      "\u001b[1m> Finished chain.\u001b[0m\n",
      "\n",
      "\u001b[1m> Finished chain.\u001b[0m\n"
     ]
    }
   ],
   "source": [
    "#token usage tracking in langchain\n",
    "from langchain_community.callbacks import get_openai_callback\n",
    "\n",
    "with get_openai_callback() as cb:\n",
    "    response=generate_evaluate_chain(\n",
    "        {\n",
    "        \"text\":text,\n",
    "        \"number\":number,\n",
    "        'subject':subject,\n",
    "        'tone':tone,\n",
    "        \"response_json\":json.dumps(response_json)\n",
    "    })"
   ]
  },
  {
   "cell_type": "code",
   "execution_count": 30,
   "id": "97e7ca0c",
   "metadata": {},
   "outputs": [
    {
     "name": "stdout",
     "output_type": "stream",
     "text": [
      "2325\n",
      "1352\n",
      "0.0007865999999999999\n",
      "973\n"
     ]
    }
   ],
   "source": [
    "print(cb.total_tokens)\n",
    "print(cb.prompt_tokens)\n",
    "print(cb.total_cost)\n",
    "print(cb.completion_tokens)"
   ]
  },
  {
   "cell_type": "code",
   "execution_count": 31,
   "id": "05aeafe0",
   "metadata": {},
   "outputs": [
    {
     "data": {
      "text/plain": [
       "{'text': 'The term machine learning was coined in 1959 by Arthur Samuel, an IBM employee and pioneer in the field of computer gaming and artificial intelligence.\\n The synonym self-teaching computers was also used in this time period.\\n\\nThe earliest machine learning program was introduced in the 1950s when Arthur Samuel invented a computer program that calculated the winning chance in checkers for each side, but the history of machine learning roots back to decades of human desire and effort to study human cognitive processes.[10] In 1949, Canadian psychologist Donald Hebb published the book The Organization of Behavior, in which he introduced a theoretical neural structure formed by certain interactions among nerve cells.[11] Hebb\\'s model of neurons interacting with one another set a groundwork for how AIs and machine learning algorithms work under nodes, or artificial neurons used by computers to communicate data.[10] Other researchers who have studied human cognitive systems contributed to the modern machine learning technologies as well, including logician Walter Pitts and Warren McCulloch, who proposed the early mathematical models of neural networks to come up with algorithms that mirror human thought processes.\\n\\nBy the early 1960s, an experimental \"learning machine\" with punched tape memory, called Cybertron, had been developed by Raytheon Company to analyse sonar signals, electrocardiograms, and speech patterns using rudimentary reinforcement learning. It was repetitively \"trained\" by a human operator/teacher to recognise patterns and equipped with a \"goof\" button to cause it to reevaluate incorrect decisions.[12] A representative book on research into machine learning during the 1960s was Nilsson\\'s book on Learning Machines, dealing mostly with machine learning for pattern classification.[13] Interest related to pattern recognition continued into the 1970s, as described by Duda and Hart in 1973.[14] In 1981 a report was given on using teaching strategies so that an artificial neural network learns to recognise 40 characters (26 letters, 10 digits, and 4 special symbols) from a computer terminal.\\n\\nTom M. Mitchell provided a widely quoted, more formal definition of the algorithms studied in the machine learning field: \"A computer program is said to learn from experience E with respect to some class of tasks T and performance measure P if its performance at tasks in T, as measured by P, improves with experience E.\"[16] This definition of the tasks in which machine learning is concerned offers a fundamentally operational definition rather than defining the field in cognitive terms. This follows Alan Turing\\'s proposal in his paper \"Computing Machinery and Intelligence\", in which the question \"Can machines think?\" is replaced with the question \"Can machines do what we (as thinking entities) can do?\".\\n\\nModern day Machine Learning algorithms are broken into 3 algorithms types: Supervised Learning Algorithms, Unsupervised Learning Algorithms, and Reinforcement Learning Algorithms.\\n\\nCurrent Supervised Learning Algorithms have objectives of classification and regression.\\nCurrent Unsupervised Learning Algorithms have objectives of clustering, dimensionality reduction, and association rule.\\nCurrent Reinforcement Learning Algorithms focus on decisions that must be made with respect to some previous, unkown time and are broken down to either be studies of model based methods, and model free methods.',\n",
       " 'number': 5,\n",
       " 'subject': 'Machine Learning',\n",
       " 'tone': 'simple',\n",
       " 'response_json': '{\"1\": {\"question\": \"string\", \"options\": {\"A\": \"string\", \"B\": \"string\", \"C\": \"string\", \"D\": \"string\"}, \" correct answer\": \"string\"}, \"2\": {\"question\": \"string\", \"options\": {\"A\": \"string\", \"B\": \"string\", \"C\": \"string\", \"D\": \"string\"}, \" correct answer\": \"string\"}, \"3\": {\"question\": \"string\", \"options\": {\"A\": \"string\", \"B\": \"string\", \"C\": \"string\", \"D\": \"string\"}, \" correct answer\": \"string\"}}',\n",
       " 'quiz': '```json\\n{\\n    \"1\": {\\n        \"question\": \"Who coined the term \\'machine learning\\'?\",\\n        \"options\": {\\n            \"A\": \"Donald Hebb\",\\n            \"B\": \"Tom M. Mitchell\",\\n            \"C\": \"Arthur Samuel\",\\n            \"D\": \"Walter Pitts\"\\n        },\\n        \"correct answer\": \"C\"\\n    },\\n    \"2\": {\\n        \"question\": \"What type of learning did the Cybertron machine use?\",\\n        \"options\": {\\n            \"A\": \"Supervised Learning\",\\n            \"B\": \"Unsupervised Learning\",\\n            \"C\": \"Reinforcement Learning\",\\n            \"D\": \"Deep Learning\"\\n        },\\n        \"correct answer\": \"C\"\\n    },\\n    \"3\": {\\n        \"question\": \"Which algorithm type focuses on classification and regression?\",\\n        \"options\": {\\n            \"A\": \"Unsupervised Learning Algorithms\",\\n            \"B\": \"Reinforcement Learning Algorithms\",\\n            \"C\": \"Supervised Learning Algorithms\",\\n            \"D\": \"Neural Networks\"\\n        },\\n        \"correct answer\": \"C\"\\n    },\\n    \"4\": {\\n        \"question\": \"What book did Tom M. Mitchell provide a formal definition for machine learning?\",\\n        \"options\": {\\n            \"A\": \"The Organization of Behavior\",\\n            \"B\": \"Learning Machines\",\\n            \"C\": \"Computing Machinery and Intelligence\",\\n            \"D\": \"Patterns in Machine Learning\"\\n        },\\n        \"correct answer\": \"B\"\\n    },\\n    \"5\": {\\n        \"question\": \"What is the objective of Unsupervised Learning Algorithms?\",\\n        \"options\": {\\n            \"A\": \"Classification\",\\n            \"B\": \"Clustering\",\\n            \"C\": \"Regression\",\\n            \"D\": \"Pattern Recognition\"\\n        },\\n        \"correct answer\": \"B\"\\n    }\\n}\\n```',\n",
       " 'reviewed_quiz': 'Here are the updated multiple-choice questions (MCQs) for the Machine Learning quiz. I\\'ve simplified some questions to make them more accessible while also adding complexity to others to provide a balanced challenge.\\n\\n### Updated Quiz MCQs\\n\\n```json\\n{\\n    \"1\": {\\n        \"question\": \"Who is credited with the first formal definition of \\'machine learning\\'?\",\\n        \"options\": {\\n            \"A\": \"Donald Hebb\",\\n            \"B\": \"Tom M. Mitchell\",\\n            \"C\": \"Arthur Samuel\",\\n            \"D\": \"Walter Pitts\"\\n        },\\n        \"correct answer\": \"B\"\\n    },\\n    \"2\": {\\n        \"question\": \"What type of learning involves taking actions to maximize a reward?\",\\n        \"options\": {\\n            \"A\": \"Supervised Learning\",\\n            \"B\": \"Unsupervised Learning\",\\n            \"C\": \"Reinforcement Learning\",\\n            \"D\": \"Deep Learning\"\\n        },\\n        \"correct answer\": \"C\"\\n    },\\n    \"3\": {\\n        \"question\": \"Which category of algorithms is primarily concerned with predicting outcomes based on input data?\",\\n        \"options\": {\\n            \"A\": \"Unsupervised Learning Algorithms\",\\n            \"B\": \"Reinforcement Learning Algorithms\",\\n            \"C\": \"Supervised Learning Algorithms\",\\n            \"D\": \"Deep Learning Algorithms\"\\n        },\\n        \"correct answer\": \"C\"\\n    },\\n    \"4\": {\\n        \"question\": \"In which book did Tom M. Mitchell establish a formal definition of machine learning?\",\\n        \"options\": {\\n            \"A\": \"The Organization of Behavior\",\\n            \"B\": \"Learning Machines\",\\n            \"C\": \"Computing Machinery and Intelligence\",\\n            \"D\": \"Machine Learning\"\\n        },\\n        \"correct answer\": \"D\"\\n    },\\n    \"5\": {\\n        \"question\": \"What is the primary goal of Unsupervised Learning?\",\\n        \"options\": {\\n            \"A\": \"To group similar data points together\",\\n            \"B\": \"To classify labeled data\",\\n            \"C\": \"To predict future values\",\\n            \"D\": \"To enhance data quality\"\\n        },\\n        \"correct answer\": \"A\"\\n    }\\n}\\n```\\n\\n### Changes Made:\\n1. **Question 1**: Clarified the phrasing to emphasize the formal definition aspect, making it slightly easier.\\n2. **Question 2**: Simplified the description of reinforcement learning to focus on the concept of maximizing rewards.\\n3. **Question 3**: Made the question more straightforward by specifying the prediction aspect of supervised learning algorithms.\\n4. **Question 4**: Changed the book title to \"Machine Learning\" for accuracy and relevance, which adds complexity.\\n5. **Question 5**: The question was simplified by directly stating the goal of unsupervised learning, making the answer options clearer.\\n\\nThese changes aim to provide a better balance between accessibility and complexity for learners at different stages.'}"
      ]
     },
     "execution_count": 31,
     "metadata": {},
     "output_type": "execute_result"
    }
   ],
   "source": [
    "response"
   ]
  },
  {
   "cell_type": "code",
   "execution_count": 38,
   "id": "a6090a49",
   "metadata": {},
   "outputs": [],
   "source": [
    "quiz=response.get(\"quiz\")"
   ]
  },
  {
   "cell_type": "code",
   "execution_count": 40,
   "id": "f3fa0df7",
   "metadata": {},
   "outputs": [
    {
     "name": "stdout",
     "output_type": "stream",
     "text": [
      "{'1': {'question': \"Who coined the term 'machine learning'?\", 'options': {'A': 'Donald Hebb', 'B': 'Tom M. Mitchell', 'C': 'Arthur Samuel', 'D': 'Walter Pitts'}, 'correct answer': 'C'}, '2': {'question': 'What type of learning did the Cybertron machine use?', 'options': {'A': 'Supervised Learning', 'B': 'Unsupervised Learning', 'C': 'Reinforcement Learning', 'D': 'Deep Learning'}, 'correct answer': 'C'}, '3': {'question': 'Which algorithm type focuses on classification and regression?', 'options': {'A': 'Unsupervised Learning Algorithms', 'B': 'Reinforcement Learning Algorithms', 'C': 'Supervised Learning Algorithms', 'D': 'Neural Networks'}, 'correct answer': 'C'}, '4': {'question': 'What book did Tom M. Mitchell provide a formal definition for machine learning?', 'options': {'A': 'The Organization of Behavior', 'B': 'Learning Machines', 'C': 'Computing Machinery and Intelligence', 'D': 'Patterns in Machine Learning'}, 'correct answer': 'B'}, '5': {'question': 'What is the objective of Unsupervised Learning Algorithms?', 'options': {'A': 'Classification', 'B': 'Clustering', 'C': 'Regression', 'D': 'Pattern Recognition'}, 'correct answer': 'B'}}\n"
     ]
    }
   ],
   "source": [
    "import re\n",
    "\n",
    "quiz_clean = re.sub(r\"^```json|```$\", \"\", quiz, flags=re.MULTILINE).strip()\n",
    "\n",
    "quiz_dict = json.loads(quiz_clean)\n",
    "print(quiz_dict)"
   ]
  },
  {
   "cell_type": "code",
   "execution_count": null,
   "id": "8ba5a354",
   "metadata": {},
   "outputs": [],
   "source": []
  }
 ],
 "metadata": {
  "kernelspec": {
   "display_name": "Python 3",
   "language": "python",
   "name": "python3"
  },
  "language_info": {
   "codemirror_mode": {
    "name": "ipython",
    "version": 3
   },
   "file_extension": ".py",
   "mimetype": "text/x-python",
   "name": "python",
   "nbconvert_exporter": "python",
   "pygments_lexer": "ipython3",
   "version": "3.8.20"
  }
 },
 "nbformat": 4,
 "nbformat_minor": 5
}
