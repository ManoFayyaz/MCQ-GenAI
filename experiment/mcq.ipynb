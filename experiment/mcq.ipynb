{
 "cells": [
  {
   "cell_type": "code",
   "execution_count": 1,
   "id": "d08499f2",
   "metadata": {},
   "outputs": [],
   "source": [
    "import os\n",
    "import json\n",
    "import pandas as pd\n",
    "from PyPDF2 import PdfReader\n",
    "import traceback"
   ]
  },
  {
   "cell_type": "code",
   "execution_count": 2,
   "id": "251a5da5",
   "metadata": {},
   "outputs": [
    {
     "name": "stdout",
     "output_type": "stream",
     "text": [
      "c:\\Users\\PMLS\\envs\\myenv\\python.exe\n"
     ]
    }
   ],
   "source": [
    "import sys\n",
    "print(sys.executable)"
   ]
  },
  {
   "cell_type": "code",
   "execution_count": 3,
   "id": "aea13d60",
   "metadata": {},
   "outputs": [
    {
     "name": "stdout",
     "output_type": "stream",
     "text": [
      "API key loaded: sk-proj-lw ...\n"
     ]
    }
   ],
   "source": [
    "\n",
    "from dotenv import load_dotenv\n",
    "import os\n",
    "\n",
    "# Load variables from .env\n",
    "load_dotenv()\n",
    "\n",
    "print(\"API key loaded:\", os.getenv(\"OPENAI_API_KEY\")[:10], \"...\")"
   ]
  },
  {
   "cell_type": "code",
   "execution_count": 4,
   "id": "d8da3b7b",
   "metadata": {},
   "outputs": [],
   "source": [
    "from langchain.chat_models import ChatOpenAI,openai\n",
    "from langchain.prompts import ChatPromptTemplate, HumanMessagePromptTemplate"
   ]
  },
  {
   "cell_type": "code",
   "execution_count": 5,
   "id": "0975497c",
   "metadata": {},
   "outputs": [],
   "source": [
    "key=os.getenv(\"OPENAI_API_KEY\")"
   ]
  },
  {
   "cell_type": "code",
   "execution_count": 6,
   "id": "7b134911",
   "metadata": {},
   "outputs": [
    {
     "name": "stderr",
     "output_type": "stream",
     "text": [
      "C:\\Users\\PMLS\\AppData\\Local\\Temp\\ipykernel_1068\\239587298.py:2: LangChainDeprecationWarning: The class `ChatOpenAI` was deprecated in LangChain 0.0.10 and will be removed in 1.0. An updated version of the class exists in the langchain-openai package and should be used instead. To use it run `pip install -U langchain-openai` and import as `from langchain_openai import ChatOpenAI`.\n",
      "  llm=ChatOpenAI(\n"
     ]
    }
   ],
   "source": [
    "import os\n",
    "llm=ChatOpenAI(\n",
    "    model=\"gpt-4o-mini-2024-07-18\",\n",
    "    api_key=key,\n",
    "    max_tokens=2000  \n",
    ")\n",
    "\n"
   ]
  },
  {
   "cell_type": "code",
   "execution_count": 7,
   "id": "e7167434",
   "metadata": {},
   "outputs": [],
   "source": [
    "from langchain.llms import OpenAI\n",
    "from langchain.prompts import PromptTemplate    \n",
    "from langchain.chains import LLMChain\n",
    "from langchain.chains import SequentialChain\n",
    "from langchain.callbacks import get_openai_callback\n",
    "import PyPDF2\n",
    "\n"
   ]
  },
  {
   "cell_type": "code",
   "execution_count": 29,
   "id": "e2532bf5",
   "metadata": {},
   "outputs": [],
   "source": [
    "TEMPLATE = \"\"\"\n",
    "Text: {text}\n",
    "You are an expert in creating engaging and challenging multiple choice questions (MCQs) for educational purposes.\n",
    "Generate {number} multiple choice questions (MCQs) in the subject of {subject} in the tone of {tone}.\n",
    "Each question should have 4 options (A, B, C, D) and one correct answer.\n",
    "**Important:** Include a field called \"correct_answer\" for each question indicating the correct option (A, B, C, or D).\n",
    "Provide the output in the following JSON format exactly: {response_json}.\n",
    "Ensure the questions are clear, concise, and relevant to the provided text.\n",
    "Questions should not be repeated.\n",
    "\"\"\""
   ]
  },
  {
   "cell_type": "code",
   "execution_count": 30,
   "id": "eecb5e71",
   "metadata": {},
   "outputs": [],
   "source": [
    "response_json={\n",
    "    \"1\": {\n",
    "        \"question\": \"string\",\n",
    "        \"options\": {\n",
    "            \"A\": \"string\",\n",
    "            \"B\": \"string\",\n",
    "            \"C\": \"string\",\n",
    "            \"D\": \"string\"\n",
    "        },\n",
    "        \" correct answer\": \"string\"\n",
    "    },\n",
    "    \"2\": \n",
    "         {\n",
    "        \"question\": \"string\",\n",
    "        \"options\": {\n",
    "            \"A\": \"string\",\n",
    "            \"B\": \"string\",\n",
    "            \"C\": \"string\",\n",
    "            \"D\": \"string\"\n",
    "        },\n",
    "        \" correct answer\": \"string\"\n",
    "    },\n",
    "    \"3\": {\n",
    "        \"question\": \"string\",\n",
    "        \"options\": {\n",
    "            \"A\": \"string\",\n",
    "            \"B\": \"string\",\n",
    "            \"C\": \"string\",\n",
    "            \"D\": \"string\"\n",
    "        },\n",
    "        \" correct answer\": \"string\"\n",
    "    }\n",
    "}"
   ]
  },
  {
   "cell_type": "code",
   "execution_count": 31,
   "id": "e83dc188",
   "metadata": {},
   "outputs": [],
   "source": [
    "quiz_prompt=PromptTemplate(\n",
    "    input_variables=[\"text\",\"number\",\"subject\",\"tone\",\"response_json\"],\n",
    "    template=TEMPLATE)"
   ]
  },
  {
   "cell_type": "code",
   "execution_count": 32,
   "id": "ba25d192",
   "metadata": {},
   "outputs": [],
   "source": [
    "quiz_chain=LLMChain(llm=llm,prompt=quiz_prompt,output_key=\"quiz\",verbose=True)"
   ]
  },
  {
   "cell_type": "code",
   "execution_count": 33,
   "id": "d8bb0f91",
   "metadata": {},
   "outputs": [],
   "source": [
    "TEMPLATE2=\"\"\"You are an english expert. Giver multiple choice questions (MCQs) for {subject} \\\" \\\n",
    "\"You need to evaluate the complexity of the questions \" \\\" \\\n",
    "\"Update the quiz questions which needs to be simplified or made complex based on the complexity level \\\" \\\" \\\n",
    "\"Quiz mcqs: {quiz} \\\" \n",
    "you can check from above quiz mcqs and update the questions \"\"\""
   ]
  },
  {
   "cell_type": "code",
   "execution_count": 34,
   "id": "b027230f",
   "metadata": {},
   "outputs": [],
   "source": [
    "quiz_evaluate_prompt=PromptTemplate(\n",
    "    input_variables=[\"quiz\",\"subject\"],\n",
    "    template=TEMPLATE2)"
   ]
  },
  {
   "cell_type": "code",
   "execution_count": 35,
   "id": "71a7df92",
   "metadata": {},
   "outputs": [],
   "source": [
    "review_chain=LLMChain(llm=llm,prompt=quiz_evaluate_prompt,output_key=\"reviewed_quiz\",verbose=True)"
   ]
  },
  {
   "cell_type": "code",
   "execution_count": 36,
   "id": "d155f136",
   "metadata": {},
   "outputs": [],
   "source": [
    "generate_evaluate_chain=SequentialChain(\n",
    "    chains=[quiz_chain,review_chain],\n",
    "    input_variables=[\"text\",\"number\",\"subject\",\"tone\",\"response_json\"],\n",
    "    output_variables=[\"quiz\",\"reviewed_quiz\"],\n",
    "    verbose=True)"
   ]
  },
  {
   "cell_type": "code",
   "execution_count": 37,
   "id": "5260a928",
   "metadata": {},
   "outputs": [],
   "source": [
    "file_path = 'D:\\MCQ-GenAI\\data.txt'"
   ]
  },
  {
   "cell_type": "code",
   "execution_count": 38,
   "id": "a9a99553",
   "metadata": {},
   "outputs": [],
   "source": [
    "with open(file_path, 'r') as file:\n",
    "    text = file.read()\n",
    "    "
   ]
  },
  {
   "cell_type": "code",
   "execution_count": 18,
   "id": "68ea4f46",
   "metadata": {},
   "outputs": [
    {
     "name": "stdout",
     "output_type": "stream",
     "text": [
      "The term machine learning was coined in 1959 by Arthur Samuel, an IBM employee and pioneer in the field of computer gaming and artificial intelligence.\n",
      " The synonym self-teaching computers was also used in this time period.\n",
      "\n",
      "The earliest machine learning program was introduced in the 1950s when Arthur Samuel invented a computer program that calculated the winning chance in checkers for each side, but the history of machine learning roots back to decades of human desire and effort to study human cognitive processes.[10] In 1949, Canadian psychologist Donald Hebb published the book The Organization of Behavior, in which he introduced a theoretical neural structure formed by certain interactions among nerve cells.[11] Hebb's model of neurons interacting with one another set a groundwork for how AIs and machine learning algorithms work under nodes, or artificial neurons used by computers to communicate data.[10] Other researchers who have studied human cognitive systems contributed to the modern machine learning technologies as well, including logician Walter Pitts and Warren McCulloch, who proposed the early mathematical models of neural networks to come up with algorithms that mirror human thought processes.\n",
      "\n",
      "By the early 1960s, an experimental \"learning machine\" with punched tape memory, called Cybertron, had been developed by Raytheon Company to analyse sonar signals, electrocardiograms, and speech patterns using rudimentary reinforcement learning. It was repetitively \"trained\" by a human operator/teacher to recognise patterns and equipped with a \"goof\" button to cause it to reevaluate incorrect decisions.[12] A representative book on research into machine learning during the 1960s was Nilsson's book on Learning Machines, dealing mostly with machine learning for pattern classification.[13] Interest related to pattern recognition continued into the 1970s, as described by Duda and Hart in 1973.[14] In 1981 a report was given on using teaching strategies so that an artificial neural network learns to recognise 40 characters (26 letters, 10 digits, and 4 special symbols) from a computer terminal.\n",
      "\n",
      "Tom M. Mitchell provided a widely quoted, more formal definition of the algorithms studied in the machine learning field: \"A computer program is said to learn from experience E with respect to some class of tasks T and performance measure P if its performance at tasks in T, as measured by P, improves with experience E.\"[16] This definition of the tasks in which machine learning is concerned offers a fundamentally operational definition rather than defining the field in cognitive terms. This follows Alan Turing's proposal in his paper \"Computing Machinery and Intelligence\", in which the question \"Can machines think?\" is replaced with the question \"Can machines do what we (as thinking entities) can do?\".\n",
      "\n",
      "Modern day Machine Learning algorithms are broken into 3 algorithms types: Supervised Learning Algorithms, Unsupervised Learning Algorithms, and Reinforcement Learning Algorithms.\n",
      "\n",
      "Current Supervised Learning Algorithms have objectives of classification and regression.\n",
      "Current Unsupervised Learning Algorithms have objectives of clustering, dimensionality reduction, and association rule.\n",
      "Current Reinforcement Learning Algorithms focus on decisions that must be made with respect to some previous, unkown time and are broken down to either be studies of model based methods, and model free methods.\n"
     ]
    }
   ],
   "source": [
    "print(text)\n"
   ]
  },
  {
   "cell_type": "code",
   "execution_count": 39,
   "id": "54725697",
   "metadata": {},
   "outputs": [
    {
     "data": {
      "text/plain": [
       "'{\"1\": {\"question\": \"string\", \"options\": {\"A\": \"string\", \"B\": \"string\", \"C\": \"string\", \"D\": \"string\"}, \" correct answer\": \"string\"}, \"2\": {\"question\": \"string\", \"options\": {\"A\": \"string\", \"B\": \"string\", \"C\": \"string\", \"D\": \"string\"}, \" correct answer\": \"string\"}, \"3\": {\"question\": \"string\", \"options\": {\"A\": \"string\", \"B\": \"string\", \"C\": \"string\", \"D\": \"string\"}, \" correct answer\": \"string\"}}'"
      ]
     },
     "execution_count": 39,
     "metadata": {},
     "output_type": "execute_result"
    }
   ],
   "source": [
    "json.dumps(response_json)"
   ]
  },
  {
   "cell_type": "code",
   "execution_count": null,
   "id": "bf98e312",
   "metadata": {},
   "outputs": [],
   "source": [
    "number=5\n",
    "subject=\"Aritificial Intelligence\"\n",
    "tone=\"simple\""
   ]
  },
  {
   "cell_type": "code",
   "execution_count": 41,
   "id": "e05221fe",
   "metadata": {},
   "outputs": [
    {
     "name": "stderr",
     "output_type": "stream",
     "text": [
      "Error in StdOutCallbackHandler.on_chain_start callback: AttributeError(\"'NoneType' object has no attribute 'get'\")\n",
      "Error in StdOutCallbackHandler.on_chain_start callback: AttributeError(\"'NoneType' object has no attribute 'get'\")\n"
     ]
    },
    {
     "name": "stdout",
     "output_type": "stream",
     "text": [
      "Prompt after formatting:\n",
      "\u001b[32;1m\u001b[1;3m\n",
      "Text: The term machine learning was coined in 1959 by Arthur Samuel, an IBM employee and pioneer in the field of computer gaming and artificial intelligence.\n",
      " The synonym self-teaching computers was also used in this time period.\n",
      "\n",
      "The earliest machine learning program was introduced in the 1950s when Arthur Samuel invented a computer program that calculated the winning chance in checkers for each side, but the history of machine learning roots back to decades of human desire and effort to study human cognitive processes.[10] In 1949, Canadian psychologist Donald Hebb published the book The Organization of Behavior, in which he introduced a theoretical neural structure formed by certain interactions among nerve cells.[11] Hebb's model of neurons interacting with one another set a groundwork for how AIs and machine learning algorithms work under nodes, or artificial neurons used by computers to communicate data.[10] Other researchers who have studied human cognitive systems contributed to the modern machine learning technologies as well, including logician Walter Pitts and Warren McCulloch, who proposed the early mathematical models of neural networks to come up with algorithms that mirror human thought processes.\n",
      "\n",
      "By the early 1960s, an experimental \"learning machine\" with punched tape memory, called Cybertron, had been developed by Raytheon Company to analyse sonar signals, electrocardiograms, and speech patterns using rudimentary reinforcement learning. It was repetitively \"trained\" by a human operator/teacher to recognise patterns and equipped with a \"goof\" button to cause it to reevaluate incorrect decisions.[12] A representative book on research into machine learning during the 1960s was Nilsson's book on Learning Machines, dealing mostly with machine learning for pattern classification.[13] Interest related to pattern recognition continued into the 1970s, as described by Duda and Hart in 1973.[14] In 1981 a report was given on using teaching strategies so that an artificial neural network learns to recognise 40 characters (26 letters, 10 digits, and 4 special symbols) from a computer terminal.\n",
      "\n",
      "Tom M. Mitchell provided a widely quoted, more formal definition of the algorithms studied in the machine learning field: \"A computer program is said to learn from experience E with respect to some class of tasks T and performance measure P if its performance at tasks in T, as measured by P, improves with experience E.\"[16] This definition of the tasks in which machine learning is concerned offers a fundamentally operational definition rather than defining the field in cognitive terms. This follows Alan Turing's proposal in his paper \"Computing Machinery and Intelligence\", in which the question \"Can machines think?\" is replaced with the question \"Can machines do what we (as thinking entities) can do?\".\n",
      "\n",
      "Modern day Machine Learning algorithms are broken into 3 algorithms types: Supervised Learning Algorithms, Unsupervised Learning Algorithms, and Reinforcement Learning Algorithms.\n",
      "\n",
      "Current Supervised Learning Algorithms have objectives of classification and regression.\n",
      "Current Unsupervised Learning Algorithms have objectives of clustering, dimensionality reduction, and association rule.\n",
      "Current Reinforcement Learning Algorithms focus on decisions that must be made with respect to some previous, unkown time and are broken down to either be studies of model based methods, and model free methods.\n",
      "You are an expert in creating engaging and challenging multiple choice questions (MCQs) for educational purposes.\n",
      "Generate 5 multiple choice questions (MCQs) in the subject of Machine Learning in the tone of simple.\n",
      "Each question should have 4 options (A, B, C, D) and one correct answer.\n",
      "**Important:** Include a field called \"correct_answer\" for each question indicating the correct option (A, B, C, or D).\n",
      "Provide the output in the following JSON format exactly: {\"1\": {\"question\": \"string\", \"options\": {\"A\": \"string\", \"B\": \"string\", \"C\": \"string\", \"D\": \"string\"}, \" correct answer\": \"string\"}, \"2\": {\"question\": \"string\", \"options\": {\"A\": \"string\", \"B\": \"string\", \"C\": \"string\", \"D\": \"string\"}, \" correct answer\": \"string\"}, \"3\": {\"question\": \"string\", \"options\": {\"A\": \"string\", \"B\": \"string\", \"C\": \"string\", \"D\": \"string\"}, \" correct answer\": \"string\"}}.\n",
      "Ensure the questions are clear, concise, and relevant to the provided text.\n",
      "Questions should not be repeated.\n",
      "\u001b[0m\n"
     ]
    },
    {
     "name": "stderr",
     "output_type": "stream",
     "text": [
      "Error in StdOutCallbackHandler.on_chain_start callback: AttributeError(\"'NoneType' object has no attribute 'get'\")\n"
     ]
    },
    {
     "name": "stdout",
     "output_type": "stream",
     "text": [
      "\n",
      "\u001b[1m> Finished chain.\u001b[0m\n",
      "Prompt after formatting:\n",
      "\u001b[32;1m\u001b[1;3mYou are an english expert. Giver multiple choice questions (MCQs) for Machine Learning \" \"You need to evaluate the complexity of the questions \" \" \"Update the quiz questions which needs to be simplified or made complex based on the complexity level \" \" \"Quiz mcqs: ```json\n",
      "{\n",
      "  \"1\": {\n",
      "    \"question\": \"Who coined the term 'machine learning'?\",\n",
      "    \"options\": {\n",
      "      \"A\": \"Donald Hebb\",\n",
      "      \"B\": \"Arthur Samuel\",\n",
      "      \"C\": \"Tom M. Mitchell\",\n",
      "      \"D\": \"Alan Turing\"\n",
      "    },\n",
      "    \"correct_answer\": \"B\"\n",
      "  },\n",
      "  \"2\": {\n",
      "    \"question\": \"What was the first machine learning program developed by Arthur Samuel designed to analyze?\",\n",
      "    \"options\": {\n",
      "      \"A\": \"Sonar signals\",\n",
      "      \"B\": \"Checkers\",\n",
      "      \"C\": \"Electrocardiograms\",\n",
      "      \"D\": \"Speech patterns\"\n",
      "    },\n",
      "    \"correct_answer\": \"B\"\n",
      "  },\n",
      "  \"3\": {\n",
      "    \"question\": \"Which type of learning algorithm focuses on making decisions based on previous experiences?\",\n",
      "    \"options\": {\n",
      "      \"A\": \"Supervised Learning\",\n",
      "      \"B\": \"Unsupervised Learning\",\n",
      "      \"C\": \"Reinforcement Learning\",\n",
      "      \"D\": \"Pattern Recognition\"\n",
      "    },\n",
      "    \"correct_answer\": \"C\"\n",
      "  },\n",
      "  \"4\": {\n",
      "    \"question\": \"What does Tom M. Mitchell's definition of machine learning focus on?\",\n",
      "    \"options\": {\n",
      "      \"A\": \"Cognitive processes\",\n",
      "      \"B\": \"Experience and tasks\",\n",
      "      \"C\": \"Neural networks\",\n",
      "      \"D\": \"Pattern classification\"\n",
      "    },\n",
      "    \"correct_answer\": \"B\"\n",
      "  },\n",
      "  \"5\": {\n",
      "    \"question\": \"What are the three types of modern machine learning algorithms?\",\n",
      "    \"options\": {\n",
      "      \"A\": \"Supervised, Unsupervised, Reinforcement\",\n",
      "      \"B\": \"Classification, Regression, Clustering\",\n",
      "      \"C\": \"Pattern Recognition, Neural Networks, Reinforcement\",\n",
      "      \"D\": \"Teaching, Learning, Evaluating\"\n",
      "    },\n",
      "    \"correct_answer\": \"A\"\n",
      "  }\n",
      "}\n",
      "``` \" \n",
      "you can check from above quiz mcqs and update the questions \u001b[0m\n",
      "\n",
      "\u001b[1m> Finished chain.\u001b[0m\n",
      "\n",
      "\u001b[1m> Finished chain.\u001b[0m\n"
     ]
    }
   ],
   "source": [
    "#token usage tracking in langchain\n",
    "from langchain_community.callbacks import get_openai_callback\n",
    "\n",
    "with get_openai_callback() as cb:\n",
    "    response=generate_evaluate_chain(\n",
    "        {\n",
    "        \"text\":text,\n",
    "        \"number\":number,\n",
    "        'subject':subject,\n",
    "        'tone':tone,\n",
    "        \"response_json\":json.dumps(response_json)\n",
    "    })"
   ]
  },
  {
   "cell_type": "code",
   "execution_count": 42,
   "id": "97e7ca0c",
   "metadata": {},
   "outputs": [
    {
     "name": "stdout",
     "output_type": "stream",
     "text": [
      "2798\n",
      "1389\n",
      "0.00105375\n",
      "1409\n"
     ]
    }
   ],
   "source": [
    "print(cb.total_tokens)\n",
    "print(cb.prompt_tokens)\n",
    "print(cb.total_cost)\n",
    "print(cb.completion_tokens)"
   ]
  },
  {
   "cell_type": "code",
   "execution_count": 43,
   "id": "05aeafe0",
   "metadata": {},
   "outputs": [
    {
     "data": {
      "text/plain": [
       "{'text': 'The term machine learning was coined in 1959 by Arthur Samuel, an IBM employee and pioneer in the field of computer gaming and artificial intelligence.\\n The synonym self-teaching computers was also used in this time period.\\n\\nThe earliest machine learning program was introduced in the 1950s when Arthur Samuel invented a computer program that calculated the winning chance in checkers for each side, but the history of machine learning roots back to decades of human desire and effort to study human cognitive processes.[10] In 1949, Canadian psychologist Donald Hebb published the book The Organization of Behavior, in which he introduced a theoretical neural structure formed by certain interactions among nerve cells.[11] Hebb\\'s model of neurons interacting with one another set a groundwork for how AIs and machine learning algorithms work under nodes, or artificial neurons used by computers to communicate data.[10] Other researchers who have studied human cognitive systems contributed to the modern machine learning technologies as well, including logician Walter Pitts and Warren McCulloch, who proposed the early mathematical models of neural networks to come up with algorithms that mirror human thought processes.\\n\\nBy the early 1960s, an experimental \"learning machine\" with punched tape memory, called Cybertron, had been developed by Raytheon Company to analyse sonar signals, electrocardiograms, and speech patterns using rudimentary reinforcement learning. It was repetitively \"trained\" by a human operator/teacher to recognise patterns and equipped with a \"goof\" button to cause it to reevaluate incorrect decisions.[12] A representative book on research into machine learning during the 1960s was Nilsson\\'s book on Learning Machines, dealing mostly with machine learning for pattern classification.[13] Interest related to pattern recognition continued into the 1970s, as described by Duda and Hart in 1973.[14] In 1981 a report was given on using teaching strategies so that an artificial neural network learns to recognise 40 characters (26 letters, 10 digits, and 4 special symbols) from a computer terminal.\\n\\nTom M. Mitchell provided a widely quoted, more formal definition of the algorithms studied in the machine learning field: \"A computer program is said to learn from experience E with respect to some class of tasks T and performance measure P if its performance at tasks in T, as measured by P, improves with experience E.\"[16] This definition of the tasks in which machine learning is concerned offers a fundamentally operational definition rather than defining the field in cognitive terms. This follows Alan Turing\\'s proposal in his paper \"Computing Machinery and Intelligence\", in which the question \"Can machines think?\" is replaced with the question \"Can machines do what we (as thinking entities) can do?\".\\n\\nModern day Machine Learning algorithms are broken into 3 algorithms types: Supervised Learning Algorithms, Unsupervised Learning Algorithms, and Reinforcement Learning Algorithms.\\n\\nCurrent Supervised Learning Algorithms have objectives of classification and regression.\\nCurrent Unsupervised Learning Algorithms have objectives of clustering, dimensionality reduction, and association rule.\\nCurrent Reinforcement Learning Algorithms focus on decisions that must be made with respect to some previous, unkown time and are broken down to either be studies of model based methods, and model free methods.',\n",
       " 'number': 5,\n",
       " 'subject': 'Machine Learning',\n",
       " 'tone': 'simple',\n",
       " 'response_json': '{\"1\": {\"question\": \"string\", \"options\": {\"A\": \"string\", \"B\": \"string\", \"C\": \"string\", \"D\": \"string\"}, \" correct answer\": \"string\"}, \"2\": {\"question\": \"string\", \"options\": {\"A\": \"string\", \"B\": \"string\", \"C\": \"string\", \"D\": \"string\"}, \" correct answer\": \"string\"}, \"3\": {\"question\": \"string\", \"options\": {\"A\": \"string\", \"B\": \"string\", \"C\": \"string\", \"D\": \"string\"}, \" correct answer\": \"string\"}}',\n",
       " 'quiz': '```json\\n{\\n  \"1\": {\\n    \"question\": \"Who coined the term \\'machine learning\\'?\",\\n    \"options\": {\\n      \"A\": \"Donald Hebb\",\\n      \"B\": \"Arthur Samuel\",\\n      \"C\": \"Tom M. Mitchell\",\\n      \"D\": \"Alan Turing\"\\n    },\\n    \"correct_answer\": \"B\"\\n  },\\n  \"2\": {\\n    \"question\": \"What was the first machine learning program developed by Arthur Samuel designed to analyze?\",\\n    \"options\": {\\n      \"A\": \"Sonar signals\",\\n      \"B\": \"Checkers\",\\n      \"C\": \"Electrocardiograms\",\\n      \"D\": \"Speech patterns\"\\n    },\\n    \"correct_answer\": \"B\"\\n  },\\n  \"3\": {\\n    \"question\": \"Which type of learning algorithm focuses on making decisions based on previous experiences?\",\\n    \"options\": {\\n      \"A\": \"Supervised Learning\",\\n      \"B\": \"Unsupervised Learning\",\\n      \"C\": \"Reinforcement Learning\",\\n      \"D\": \"Pattern Recognition\"\\n    },\\n    \"correct_answer\": \"C\"\\n  },\\n  \"4\": {\\n    \"question\": \"What does Tom M. Mitchell\\'s definition of machine learning focus on?\",\\n    \"options\": {\\n      \"A\": \"Cognitive processes\",\\n      \"B\": \"Experience and tasks\",\\n      \"C\": \"Neural networks\",\\n      \"D\": \"Pattern classification\"\\n    },\\n    \"correct_answer\": \"B\"\\n  },\\n  \"5\": {\\n    \"question\": \"What are the three types of modern machine learning algorithms?\",\\n    \"options\": {\\n      \"A\": \"Supervised, Unsupervised, Reinforcement\",\\n      \"B\": \"Classification, Regression, Clustering\",\\n      \"C\": \"Pattern Recognition, Neural Networks, Reinforcement\",\\n      \"D\": \"Teaching, Learning, Evaluating\"\\n    },\\n    \"correct_answer\": \"A\"\\n  }\\n}\\n```',\n",
       " 'reviewed_quiz': 'Here are the revised multiple-choice questions (MCQs) for the Machine Learning quiz, with some questions simplified and others made more complex based on the original complexity level:\\n\\n### Simplified Questions\\n\\n```json\\n{\\n  \"1\": {\\n    \"question\": \"Who first used the term \\'machine learning\\'?\",\\n    \"options\": {\\n      \"A\": \"Donald Hebb\",\\n      \"B\": \"Arthur Samuel\",\\n      \"C\": \"Tom M. Mitchell\",\\n      \"D\": \"Alan Turing\"\\n    },\\n    \"correct_answer\": \"B\"\\n  },\\n  \"2\": {\\n    \"question\": \"What was the first program created by Arthur Samuel meant to play?\",\\n    \"options\": {\\n      \"A\": \"Sonar\",\\n      \"B\": \"Checkers\",\\n      \"C\": \"Heartbeats\",\\n      \"D\": \"Voice\"\\n    },\\n    \"correct_answer\": \"B\"\\n  },\\n  \"3\": {\\n    \"question\": \"Which learning type improves based on past experiences?\",\\n    \"options\": {\\n      \"A\": \"Supervised Learning\",\\n      \"B\": \"Unsupervised Learning\",\\n      \"C\": \"Reinforcement Learning\",\\n      \"D\": \"Pattern Recognition\"\\n    },\\n    \"correct_answer\": \"C\"\\n  },\\n  \"4\": {\\n    \"question\": \"According to Tom M. Mitchell, machine learning involves learning from what?\",\\n    \"options\": {\\n      \"A\": \"Thought processes\",\\n      \"B\": \"Past experiences\",\\n      \"C\": \"Computer code\",\\n      \"D\": \"Data patterns\"\\n    },\\n    \"correct_answer\": \"B\"\\n  },\\n  \"5\": {\\n    \"question\": \"What are the main types of machine learning algorithms?\",\\n    \"options\": {\\n      \"A\": \"Supervised, Unsupervised, Reinforcement\",\\n      \"B\": \"Classification, Regression, Clustering\",\\n      \"C\": \"Patterns, Networks, Learning\",\\n      \"D\": \"Teaching, Learning, Testing\"\\n    },\\n    \"correct_answer\": \"A\"\\n  }\\n}\\n```\\n\\n### More Complex Questions\\n\\n```json\\n{\\n  \"1\": {\\n    \"question\": \"Who is credited with popularizing the term \\'machine learning\\' in the context of artificial intelligence?\",\\n    \"options\": {\\n      \"A\": \"Donald Hebb, known for his work on neural networks\",\\n      \"B\": \"Arthur Samuel, a pioneer in computer gaming and AI\",\\n      \"C\": \"Tom M. Mitchell, who provided a formal definition of ML\",\\n      \"D\": \"Alan Turing, a foundational figure in computer science\"\\n    },\\n    \"correct_answer\": \"B\"\\n  },\\n  \"2\": {\\n    \"question\": \"The first machine learning program created by Arthur Samuel was designed to play which strategic board game?\",\\n    \"options\": {\\n      \"A\": \"Sonar analysis for underwater exploration\",\\n      \"B\": \"Checkers, a two-player game of strategy\",\\n      \"C\": \"Analyzing electrocardiograms for medical diagnosis\",\\n      \"D\": \"Recognizing speech patterns for voice commands\"\\n    },\\n    \"correct_answer\": \"B\"\\n  },\\n  \"3\": {\\n    \"question\": \"Which learning paradigm is characterized by an agent learning to make decisions by receiving rewards or penalties based on its actions?\",\\n    \"options\": {\\n      \"A\": \"Supervised Learning, where labeled data is used\",\\n      \"B\": \"Unsupervised Learning, focusing on finding hidden patterns\",\\n      \"C\": \"Reinforcement Learning, driven by reward feedback\",\\n      \"D\": \"Pattern Recognition, which identifies data patterns\"\\n    },\\n    \"correct_answer\": \"C\"\\n  },\\n  \"4\": {\\n    \"question\": \"Tom M. Mitchell\\'s definition of machine learning emphasizes the importance of learning from which aspects?\",\\n    \"options\": {\\n      \"A\": \"Cognitive and emotional processes\",\\n      \"B\": \"Past experiences and the performance of tasks\",\\n      \"C\": \"The structure of neural networks and their functions\",\\n      \"D\": \"The classification of complex patterns and images\"\\n    },\\n    \"correct_answer\": \"B\"\\n  },\\n  \"5\": {\\n    \"question\": \"In the realm of modern machine learning, which of the following groups accurately categorizes the primary types of algorithms?\",\\n    \"options\": {\\n      \"A\": \"Supervised Learning, Unsupervised Learning, and Reinforcement Learning\",\\n      \"B\": \"Classification, Regression, and Clustering techniques\",\\n      \"C\": \"Pattern Recognition, Neural Networks, and Deep Learning\",\\n      \"D\": \"Teaching methodologies, Learning strategies, and Evaluation metrics\"\\n    },\\n    \"correct_answer\": \"A\"\\n  }\\n}\\n```\\n\\n### Summary of Changes:\\n- **Simplified Questions:** Made the language and context more accessible for beginners.\\n- **More Complex Questions:** Provided additional context and detail, enhancing the depth and challenge of the questions for more advanced learners.'}"
      ]
     },
     "execution_count": 43,
     "metadata": {},
     "output_type": "execute_result"
    }
   ],
   "source": [
    "response"
   ]
  },
  {
   "cell_type": "code",
   "execution_count": 44,
   "id": "a6090a49",
   "metadata": {},
   "outputs": [],
   "source": [
    "quiz=response.get(\"quiz\")"
   ]
  },
  {
   "cell_type": "code",
   "execution_count": 45,
   "id": "f3fa0df7",
   "metadata": {},
   "outputs": [
    {
     "name": "stdout",
     "output_type": "stream",
     "text": [
      "{'1': {'question': \"Who coined the term 'machine learning'?\", 'options': {'A': 'Donald Hebb', 'B': 'Arthur Samuel', 'C': 'Tom M. Mitchell', 'D': 'Alan Turing'}, 'correct_answer': 'B'}, '2': {'question': 'What was the first machine learning program developed by Arthur Samuel designed to analyze?', 'options': {'A': 'Sonar signals', 'B': 'Checkers', 'C': 'Electrocardiograms', 'D': 'Speech patterns'}, 'correct_answer': 'B'}, '3': {'question': 'Which type of learning algorithm focuses on making decisions based on previous experiences?', 'options': {'A': 'Supervised Learning', 'B': 'Unsupervised Learning', 'C': 'Reinforcement Learning', 'D': 'Pattern Recognition'}, 'correct_answer': 'C'}, '4': {'question': \"What does Tom M. Mitchell's definition of machine learning focus on?\", 'options': {'A': 'Cognitive processes', 'B': 'Experience and tasks', 'C': 'Neural networks', 'D': 'Pattern classification'}, 'correct_answer': 'B'}, '5': {'question': 'What are the three types of modern machine learning algorithms?', 'options': {'A': 'Supervised, Unsupervised, Reinforcement', 'B': 'Classification, Regression, Clustering', 'C': 'Pattern Recognition, Neural Networks, Reinforcement', 'D': 'Teaching, Learning, Evaluating'}, 'correct_answer': 'A'}}\n"
     ]
    }
   ],
   "source": [
    "import re\n",
    "\n",
    "quiz_clean = re.sub(r\"^```json|```$\", \"\", quiz, flags=re.MULTILINE).strip()\n",
    "\n",
    "quiz_dict = json.loads(quiz_clean)\n",
    "print(quiz_dict)"
   ]
  },
  {
   "cell_type": "code",
   "execution_count": 46,
   "id": "8ba5a354",
   "metadata": {},
   "outputs": [],
   "source": [
    "quiz_table=[]\n",
    "for key, value in quiz_dict.items():\n",
    "    question = value.get(\"question\", \"\")\n",
    "    options = value.get(\"options\", {})\n",
    "    correct_answer = value.get(\"correct answer\", \"\")\n",
    "    \n",
    "    quiz_table.append({\n",
    "        \"Question\": question,\n",
    "        \"Option A\": options.get(\"A\", \"\"),\n",
    "        \"Option B\": options.get(\"B\", \"\"),\n",
    "        \"Option C\": options.get(\"C\", \"\"),\n",
    "        \"Option D\": options.get(\"D\", \"\"),\n",
    "        \"Correct Answer\": correct_answer\n",
    "    })\n"
   ]
  },
  {
   "cell_type": "code",
   "execution_count": 47,
   "id": "4c11e555",
   "metadata": {},
   "outputs": [
    {
     "data": {
      "text/plain": [
       "[{'Question': \"Who coined the term 'machine learning'?\",\n",
       "  'Option A': 'Donald Hebb',\n",
       "  'Option B': 'Arthur Samuel',\n",
       "  'Option C': 'Tom M. Mitchell',\n",
       "  'Option D': 'Alan Turing',\n",
       "  'Correct Answer': ''},\n",
       " {'Question': 'What was the first machine learning program developed by Arthur Samuel designed to analyze?',\n",
       "  'Option A': 'Sonar signals',\n",
       "  'Option B': 'Checkers',\n",
       "  'Option C': 'Electrocardiograms',\n",
       "  'Option D': 'Speech patterns',\n",
       "  'Correct Answer': ''},\n",
       " {'Question': 'Which type of learning algorithm focuses on making decisions based on previous experiences?',\n",
       "  'Option A': 'Supervised Learning',\n",
       "  'Option B': 'Unsupervised Learning',\n",
       "  'Option C': 'Reinforcement Learning',\n",
       "  'Option D': 'Pattern Recognition',\n",
       "  'Correct Answer': ''},\n",
       " {'Question': \"What does Tom M. Mitchell's definition of machine learning focus on?\",\n",
       "  'Option A': 'Cognitive processes',\n",
       "  'Option B': 'Experience and tasks',\n",
       "  'Option C': 'Neural networks',\n",
       "  'Option D': 'Pattern classification',\n",
       "  'Correct Answer': ''},\n",
       " {'Question': 'What are the three types of modern machine learning algorithms?',\n",
       "  'Option A': 'Supervised, Unsupervised, Reinforcement',\n",
       "  'Option B': 'Classification, Regression, Clustering',\n",
       "  'Option C': 'Pattern Recognition, Neural Networks, Reinforcement',\n",
       "  'Option D': 'Teaching, Learning, Evaluating',\n",
       "  'Correct Answer': ''}]"
      ]
     },
     "execution_count": 47,
     "metadata": {},
     "output_type": "execute_result"
    }
   ],
   "source": [
    "quiz_table\n"
   ]
  },
  {
   "cell_type": "code",
   "execution_count": 27,
   "id": "8f9b1ca4",
   "metadata": {},
   "outputs": [
    {
     "data": {
      "text/html": [
       "<div>\n",
       "<style scoped>\n",
       "    .dataframe tbody tr th:only-of-type {\n",
       "        vertical-align: middle;\n",
       "    }\n",
       "\n",
       "    .dataframe tbody tr th {\n",
       "        vertical-align: top;\n",
       "    }\n",
       "\n",
       "    .dataframe thead th {\n",
       "        text-align: right;\n",
       "    }\n",
       "</style>\n",
       "<table border=\"1\" class=\"dataframe\">\n",
       "  <thead>\n",
       "    <tr style=\"text-align: right;\">\n",
       "      <th></th>\n",
       "      <th>Question</th>\n",
       "      <th>Option A</th>\n",
       "      <th>Option B</th>\n",
       "      <th>Option C</th>\n",
       "      <th>Option D</th>\n",
       "      <th>Correct Answer</th>\n",
       "    </tr>\n",
       "  </thead>\n",
       "  <tbody>\n",
       "    <tr>\n",
       "      <th>0</th>\n",
       "      <td>Who coined the term 'machine learning'?</td>\n",
       "      <td>Donald Hebb</td>\n",
       "      <td>Tom M. Mitchell</td>\n",
       "      <td>Arthur Samuel</td>\n",
       "      <td>Walter Pitts</td>\n",
       "      <td>C</td>\n",
       "    </tr>\n",
       "    <tr>\n",
       "      <th>1</th>\n",
       "      <td>What was the primary focus of the earliest mac...</td>\n",
       "      <td>Chess</td>\n",
       "      <td>Checkers</td>\n",
       "      <td>Sonar signals</td>\n",
       "      <td>Speech patterns</td>\n",
       "      <td>B</td>\n",
       "    </tr>\n",
       "    <tr>\n",
       "      <th>2</th>\n",
       "      <td>What type of learning algorithm focuses on mak...</td>\n",
       "      <td>Supervised Learning</td>\n",
       "      <td>Unsupervised Learning</td>\n",
       "      <td>Reinforcement Learning</td>\n",
       "      <td>Pattern Recognition</td>\n",
       "      <td>C</td>\n",
       "    </tr>\n",
       "    <tr>\n",
       "      <th>3</th>\n",
       "      <td>What is the objective of current Unsupervised ...</td>\n",
       "      <td>Classification</td>\n",
       "      <td>Regression</td>\n",
       "      <td>Clustering</td>\n",
       "      <td>Recognition</td>\n",
       "      <td>C</td>\n",
       "    </tr>\n",
       "    <tr>\n",
       "      <th>4</th>\n",
       "      <td>Which book introduced a theoretical neural str...</td>\n",
       "      <td>Learning Machines</td>\n",
       "      <td>The Organization of Behavior</td>\n",
       "      <td>Computing Machinery and Intelligence</td>\n",
       "      <td>Pattern Classification</td>\n",
       "      <td>B</td>\n",
       "    </tr>\n",
       "  </tbody>\n",
       "</table>\n",
       "</div>"
      ],
      "text/plain": [
       "                                            Question             Option A  \\\n",
       "0            Who coined the term 'machine learning'?          Donald Hebb   \n",
       "1  What was the primary focus of the earliest mac...                Chess   \n",
       "2  What type of learning algorithm focuses on mak...  Supervised Learning   \n",
       "3  What is the objective of current Unsupervised ...       Classification   \n",
       "4  Which book introduced a theoretical neural str...    Learning Machines   \n",
       "\n",
       "                       Option B                              Option C  \\\n",
       "0               Tom M. Mitchell                         Arthur Samuel   \n",
       "1                      Checkers                         Sonar signals   \n",
       "2         Unsupervised Learning                Reinforcement Learning   \n",
       "3                    Regression                            Clustering   \n",
       "4  The Organization of Behavior  Computing Machinery and Intelligence   \n",
       "\n",
       "                 Option D Correct Answer  \n",
       "0            Walter Pitts              C  \n",
       "1         Speech patterns              B  \n",
       "2     Pattern Recognition              C  \n",
       "3             Recognition              C  \n",
       "4  Pattern Classification              B  "
      ]
     },
     "execution_count": 27,
     "metadata": {},
     "output_type": "execute_result"
    }
   ],
   "source": [
    "df=pd.DataFrame(quiz_table)\n",
    "df"
   ]
  },
  {
   "cell_type": "code",
   "execution_count": 48,
   "id": "f1f065ca",
   "metadata": {},
   "outputs": [],
   "source": [
    "df.to_csv('quiz.csv', index=False)"
   ]
  },
  {
   "cell_type": "code",
   "execution_count": null,
   "id": "2a4af191",
   "metadata": {},
   "outputs": [],
   "source": []
  }
 ],
 "metadata": {
  "kernelspec": {
   "display_name": "Python 3",
   "language": "python",
   "name": "python3"
  },
  "language_info": {
   "codemirror_mode": {
    "name": "ipython",
    "version": 3
   },
   "file_extension": ".py",
   "mimetype": "text/x-python",
   "name": "python",
   "nbconvert_exporter": "python",
   "pygments_lexer": "ipython3",
   "version": "3.8.20"
  }
 },
 "nbformat": 4,
 "nbformat_minor": 5
}
