{
 "cells": [
  {
   "cell_type": "code",
   "execution_count": 3,
   "id": "d08499f2",
   "metadata": {},
   "outputs": [],
   "source": [
    "import os\n",
    "import json\n",
    "import pandas as pd\n",
    "from PyPDF2 import PdfReader\n",
    "import traceback"
   ]
  },
  {
   "cell_type": "code",
   "execution_count": 4,
   "id": "251a5da5",
   "metadata": {},
   "outputs": [
    {
     "name": "stdout",
     "output_type": "stream",
     "text": [
      "c:\\Users\\PMLS\\envs\\myenv\\python.exe\n"
     ]
    }
   ],
   "source": [
    "import sys\n",
    "print(sys.executable)"
   ]
  },
  {
   "cell_type": "code",
   "execution_count": 35,
   "id": "aea13d60",
   "metadata": {},
   "outputs": [
    {
     "name": "stdout",
     "output_type": "stream",
     "text": [
      "API key loaded: sk-proj-lw ...\n"
     ]
    }
   ],
   "source": [
    "\n",
    "from dotenv import load_dotenv\n",
    "import os\n",
    "\n",
    "# Load variables from .env\n",
    "load_dotenv()\n",
    "\n",
    "print(\"API key loaded:\", os.getenv(\"OPENAI_API_KEY\")[:10], \"...\")"
   ]
  },
  {
   "cell_type": "code",
   "execution_count": 6,
   "id": "d8da3b7b",
   "metadata": {},
   "outputs": [],
   "source": [
    "from langchain.chat_models import ChatOpenAI,openai\n",
    "from langchain.prompts import ChatPromptTemplate, HumanMessagePromptTemplate"
   ]
  },
  {
   "cell_type": "code",
   "execution_count": 7,
   "id": "0975497c",
   "metadata": {},
   "outputs": [],
   "source": [
    "key=os.getenv(\"OPENAI_API_KEY\")"
   ]
  },
  {
   "cell_type": "code",
   "execution_count": 8,
   "id": "7b134911",
   "metadata": {},
   "outputs": [
    {
     "name": "stderr",
     "output_type": "stream",
     "text": [
      "C:\\Users\\PMLS\\AppData\\Local\\Temp\\ipykernel_2564\\239587298.py:2: LangChainDeprecationWarning: The class `ChatOpenAI` was deprecated in LangChain 0.0.10 and will be removed in 1.0. An updated version of the class exists in the langchain-openai package and should be used instead. To use it run `pip install -U langchain-openai` and import as `from langchain_openai import ChatOpenAI`.\n",
      "  llm=ChatOpenAI(\n"
     ]
    }
   ],
   "source": [
    "import os\n",
    "llm=ChatOpenAI(\n",
    "    model=\"gpt-4o-mini-2024-07-18\",\n",
    "    api_key=key,\n",
    "    max_tokens=2000  \n",
    ")\n",
    "\n"
   ]
  },
  {
   "cell_type": "code",
   "execution_count": 9,
   "id": "e7167434",
   "metadata": {},
   "outputs": [],
   "source": [
    "from langchain.llms import OpenAI\n",
    "from langchain.prompts import PromptTemplate    \n",
    "from langchain.chains import LLMChain\n",
    "from langchain.chains import SequentialChain\n",
    "from langchain.callbacks import get_openai_callback\n",
    "import PyPDF2\n",
    "\n"
   ]
  },
  {
   "cell_type": "code",
   "execution_count": 10,
   "id": "e2532bf5",
   "metadata": {},
   "outputs": [],
   "source": [
    "TEMPLATE = \"\"\"\n",
    "Text: {text}\n",
    "You are an expert in creating engaging and challenging multiple choice questions (MCQs) for educational purposes.\n",
    "Generate {number} multiple choice questions (MCQs) in the subject of {subject} in the tone of {tone}.\n",
    "Each question should have 4 options (A, B, C, D) and one correct answer.\n",
    "**Important:** Include a field called \"correct_answer\" for each question indicating the correct option (A, B, C, or D).\n",
    "Provide the output in the following JSON format exactly: {response_json}.\n",
    "Ensure the questions are clear, concise, and relevant to the provided text.\n",
    "Questions should not be repeated.\n",
    "\"\"\""
   ]
  },
  {
   "cell_type": "code",
   "execution_count": 11,
   "id": "eecb5e71",
   "metadata": {},
   "outputs": [],
   "source": [
    "response_json={\n",
    "    \"1\": {\n",
    "        \"question\": \"string\",\n",
    "        \"options\": {\n",
    "            \"A\": \"string\",\n",
    "            \"B\": \"string\",\n",
    "            \"C\": \"string\",\n",
    "            \"D\": \"string\"\n",
    "        },\n",
    "        \" correct answer\": \"string\"\n",
    "    },\n",
    "    \"2\": \n",
    "         {\n",
    "        \"question\": \"string\",\n",
    "        \"options\": {\n",
    "            \"A\": \"string\",\n",
    "            \"B\": \"string\",\n",
    "            \"C\": \"string\",\n",
    "            \"D\": \"string\"\n",
    "        },\n",
    "        \" correct answer\": \"string\"\n",
    "    },\n",
    "    \"3\": {\n",
    "        \"question\": \"string\",\n",
    "        \"options\": {\n",
    "            \"A\": \"string\",\n",
    "            \"B\": \"string\",\n",
    "            \"C\": \"string\",\n",
    "            \"D\": \"string\"\n",
    "        },\n",
    "        \" correct answer\": \"string\"\n",
    "    }\n",
    "}"
   ]
  },
  {
   "cell_type": "code",
   "execution_count": 12,
   "id": "e83dc188",
   "metadata": {},
   "outputs": [],
   "source": [
    "quiz_prompt=PromptTemplate(\n",
    "    input_variables=[\"text\",\"number\",\"subject\",\"tone\",\"response_json\"],\n",
    "    template=TEMPLATE)"
   ]
  },
  {
   "cell_type": "code",
   "execution_count": 13,
   "id": "ba25d192",
   "metadata": {},
   "outputs": [
    {
     "name": "stderr",
     "output_type": "stream",
     "text": [
      "C:\\Users\\PMLS\\AppData\\Local\\Temp\\ipykernel_2564\\2504320390.py:1: LangChainDeprecationWarning: The class `LLMChain` was deprecated in LangChain 0.1.17 and will be removed in 1.0. Use RunnableSequence, e.g., `prompt | llm` instead.\n",
      "  quiz_chain=LLMChain(llm=llm,prompt=quiz_prompt,output_key=\"quiz\",verbose=True)\n"
     ]
    }
   ],
   "source": [
    "quiz_chain=LLMChain(llm=llm,prompt=quiz_prompt,output_key=\"quiz\",verbose=True)"
   ]
  },
  {
   "cell_type": "code",
   "execution_count": 14,
   "id": "d8bb0f91",
   "metadata": {},
   "outputs": [],
   "source": [
    "TEMPLATE2=\"\"\"You are an english expert. Giver multiple choice questions (MCQs) for {subject} \\\" \\\n",
    "\"You need to evaluate the complexity of the questions \" \\\" \\\n",
    "\"Update the quiz questions which needs to be simplified or made complex based on the complexity level \\\" \\\" \\\n",
    "\"Quiz mcqs: {quiz} \\\" \n",
    "you can check from above quiz mcqs and update the questions \"\"\""
   ]
  },
  {
   "cell_type": "code",
   "execution_count": 15,
   "id": "b027230f",
   "metadata": {},
   "outputs": [],
   "source": [
    "quiz_evaluate_prompt=PromptTemplate(\n",
    "    input_variables=[\"quiz\",\"subject\"],\n",
    "    template=TEMPLATE2)"
   ]
  },
  {
   "cell_type": "code",
   "execution_count": 16,
   "id": "71a7df92",
   "metadata": {},
   "outputs": [],
   "source": [
    "review_chain=LLMChain(llm=llm,prompt=quiz_evaluate_prompt,output_key=\"reviewed_quiz\",verbose=True)"
   ]
  },
  {
   "cell_type": "code",
   "execution_count": 17,
   "id": "d155f136",
   "metadata": {},
   "outputs": [],
   "source": [
    "generate_evaluate_chain=SequentialChain(\n",
    "    chains=[quiz_chain,review_chain],\n",
    "    input_variables=[\"text\",\"number\",\"subject\",\"tone\",\"response_json\"],\n",
    "    output_variables=[\"quiz\",\"reviewed_quiz\"],\n",
    "    verbose=True)"
   ]
  },
  {
   "cell_type": "code",
   "execution_count": 18,
   "id": "5260a928",
   "metadata": {},
   "outputs": [],
   "source": [
    "file_path = 'D:\\MCQ-GenAI\\data.txt'"
   ]
  },
  {
   "cell_type": "code",
   "execution_count": 19,
   "id": "a9a99553",
   "metadata": {},
   "outputs": [],
   "source": [
    "with open(file_path, 'r') as file:\n",
    "    text = file.read()\n",
    "    "
   ]
  },
  {
   "cell_type": "code",
   "execution_count": 18,
   "id": "68ea4f46",
   "metadata": {},
   "outputs": [
    {
     "name": "stdout",
     "output_type": "stream",
     "text": [
      "The term machine learning was coined in 1959 by Arthur Samuel, an IBM employee and pioneer in the field of computer gaming and artificial intelligence.\n",
      " The synonym self-teaching computers was also used in this time period.\n",
      "\n",
      "The earliest machine learning program was introduced in the 1950s when Arthur Samuel invented a computer program that calculated the winning chance in checkers for each side, but the history of machine learning roots back to decades of human desire and effort to study human cognitive processes.[10] In 1949, Canadian psychologist Donald Hebb published the book The Organization of Behavior, in which he introduced a theoretical neural structure formed by certain interactions among nerve cells.[11] Hebb's model of neurons interacting with one another set a groundwork for how AIs and machine learning algorithms work under nodes, or artificial neurons used by computers to communicate data.[10] Other researchers who have studied human cognitive systems contributed to the modern machine learning technologies as well, including logician Walter Pitts and Warren McCulloch, who proposed the early mathematical models of neural networks to come up with algorithms that mirror human thought processes.\n",
      "\n",
      "By the early 1960s, an experimental \"learning machine\" with punched tape memory, called Cybertron, had been developed by Raytheon Company to analyse sonar signals, electrocardiograms, and speech patterns using rudimentary reinforcement learning. It was repetitively \"trained\" by a human operator/teacher to recognise patterns and equipped with a \"goof\" button to cause it to reevaluate incorrect decisions.[12] A representative book on research into machine learning during the 1960s was Nilsson's book on Learning Machines, dealing mostly with machine learning for pattern classification.[13] Interest related to pattern recognition continued into the 1970s, as described by Duda and Hart in 1973.[14] In 1981 a report was given on using teaching strategies so that an artificial neural network learns to recognise 40 characters (26 letters, 10 digits, and 4 special symbols) from a computer terminal.\n",
      "\n",
      "Tom M. Mitchell provided a widely quoted, more formal definition of the algorithms studied in the machine learning field: \"A computer program is said to learn from experience E with respect to some class of tasks T and performance measure P if its performance at tasks in T, as measured by P, improves with experience E.\"[16] This definition of the tasks in which machine learning is concerned offers a fundamentally operational definition rather than defining the field in cognitive terms. This follows Alan Turing's proposal in his paper \"Computing Machinery and Intelligence\", in which the question \"Can machines think?\" is replaced with the question \"Can machines do what we (as thinking entities) can do?\".\n",
      "\n",
      "Modern day Machine Learning algorithms are broken into 3 algorithms types: Supervised Learning Algorithms, Unsupervised Learning Algorithms, and Reinforcement Learning Algorithms.\n",
      "\n",
      "Current Supervised Learning Algorithms have objectives of classification and regression.\n",
      "Current Unsupervised Learning Algorithms have objectives of clustering, dimensionality reduction, and association rule.\n",
      "Current Reinforcement Learning Algorithms focus on decisions that must be made with respect to some previous, unkown time and are broken down to either be studies of model based methods, and model free methods.\n"
     ]
    }
   ],
   "source": [
    "print(text)\n"
   ]
  },
  {
   "cell_type": "code",
   "execution_count": 20,
   "id": "54725697",
   "metadata": {},
   "outputs": [
    {
     "data": {
      "text/plain": [
       "'{\"1\": {\"question\": \"string\", \"options\": {\"A\": \"string\", \"B\": \"string\", \"C\": \"string\", \"D\": \"string\"}, \" correct answer\": \"string\"}, \"2\": {\"question\": \"string\", \"options\": {\"A\": \"string\", \"B\": \"string\", \"C\": \"string\", \"D\": \"string\"}, \" correct answer\": \"string\"}, \"3\": {\"question\": \"string\", \"options\": {\"A\": \"string\", \"B\": \"string\", \"C\": \"string\", \"D\": \"string\"}, \" correct answer\": \"string\"}}'"
      ]
     },
     "execution_count": 20,
     "metadata": {},
     "output_type": "execute_result"
    }
   ],
   "source": [
    "json.dumps(response_json)"
   ]
  },
  {
   "cell_type": "code",
   "execution_count": 21,
   "id": "bf98e312",
   "metadata": {},
   "outputs": [],
   "source": [
    "number=5\n",
    "subject=\"Aritificial Intelligence\"\n",
    "tone=\"simple\""
   ]
  },
  {
   "cell_type": "code",
   "execution_count": 22,
   "id": "e05221fe",
   "metadata": {},
   "outputs": [
    {
     "name": "stderr",
     "output_type": "stream",
     "text": [
      "C:\\Users\\PMLS\\AppData\\Local\\Temp\\ipykernel_2564\\3371434376.py:5: LangChainDeprecationWarning: The method `Chain.__call__` was deprecated in langchain 0.1.0 and will be removed in 1.0. Use invoke instead.\n",
      "  response=generate_evaluate_chain(\n",
      "Error in StdOutCallbackHandler.on_chain_start callback: AttributeError(\"'NoneType' object has no attribute 'get'\")\n",
      "Error in StdOutCallbackHandler.on_chain_start callback: AttributeError(\"'NoneType' object has no attribute 'get'\")\n"
     ]
    },
    {
     "name": "stdout",
     "output_type": "stream",
     "text": [
      "Prompt after formatting:\n",
      "\u001b[32;1m\u001b[1;3m\n",
      "Text: Machine Learning:\n",
      "The term machine learning was coined in 1959 by Arthur Samuel, an IBM employee and pioneer in the field of computer gaming and artificial intelligence.\n",
      " The synonym self-teaching computers was also used in this time period.\n",
      "\n",
      "The earliest machine learning program was introduced in the 1950s when Arthur Samuel invented a computer program that calculated the winning chance in checkers for each side, but the history of machine learning roots back to decades of human desire and effort to study human cognitive processes.[10] In 1949, Canadian psychologist Donald Hebb published the book The Organization of Behavior, in which he introduced a theoretical neural structure formed by certain interactions among nerve cells.[11] Hebb's model of neurons interacting with one another set a groundwork for how AIs and machine learning algorithms work under nodes, or artificial neurons used by computers to communicate data.[10] Other researchers who have studied human cognitive systems contributed to the modern machine learning technologies as well, including logician Walter Pitts and Warren McCulloch, who proposed the early mathematical models of neural networks to come up with algorithms that mirror human thought processes.\n",
      "\n",
      "By the early 1960s, an experimental \"learning machine\" with punched tape memory, called Cybertron, had been developed by Raytheon Company to analyse sonar signals, electrocardiograms, and speech patterns using rudimentary reinforcement learning. It was repetitively \"trained\" by a human operator/teacher to recognise patterns and equipped with a \"goof\" button to cause it to reevaluate incorrect decisions.[12] A representative book on research into machine learning during the 1960s was Nilsson's book on Learning Machines, dealing mostly with machine learning for pattern classification.[13] Interest related to pattern recognition continued into the 1970s, as described by Duda and Hart in 1973.[14] In 1981 a report was given on using teaching strategies so that an artificial neural network learns to recognise 40 characters (26 letters, 10 digits, and 4 special symbols) from a computer terminal.\n",
      "\n",
      "Tom M. Mitchell provided a widely quoted, more formal definition of the algorithms studied in the machine learning field: \"A computer program is said to learn from experience E with respect to some class of tasks T and performance measure P if its performance at tasks in T, as measured by P, improves with experience E.\"[16] This definition of the tasks in which machine learning is concerned offers a fundamentally operational definition rather than defining the field in cognitive terms. This follows Alan Turing's proposal in his paper \"Computing Machinery and Intelligence\", in which the question \"Can machines think?\" is replaced with the question \"Can machines do what we (as thinking entities) can do?\".\n",
      "\n",
      "Modern day Machine Learning algorithms are broken into 3 algorithms types: Supervised Learning Algorithms, Unsupervised Learning Algorithms, and Reinforcement Learning Algorithms.\n",
      "\n",
      "Current Supervised Learning Algorithms have objectives of classification and regression.\n",
      "Current Unsupervised Learning Algorithms have objectives of clustering, dimensionality reduction, and association rule.\n",
      "Current Reinforcement Learning Algorithms focus on decisions that must be made with respect to some previous, unkown time and are broken down to either be studies of model based methods, and model free methods.\n",
      "\n",
      "Aritificial Intelligence:\n",
      "Artificial intelligence (AI) is the capability of computational systems to perform tasks typically associated with human intelligence, such as learning, reasoning, problem-solving, perception, and decision-making. It is a field of research in computer science that develops and studies methods and software that enable machines to perceive their environment and use learning and intelligence to take actions that maximize their chances of achieving defined goals.[1]\n",
      "\n",
      "High-profile applications of AI include advanced web search engines (e.g., Google Search); recommendation systems (used by YouTube, Amazon, and Netflix); virtual assistants (e.g., Google Assistant, Siri, and Alexa); autonomous vehicles (e.g., Waymo); generative and creative tools (e.g., language models and AI art); and superhuman play and analysis in strategy games (e.g., chess and Go). However, many AI applications are not perceived as AI: \"A lot of cutting edge AI has filtered into general applications, often without being called AI because once something becomes useful enough and common enough it's not labeled AI anymore.\"[2][3]\n",
      "\n",
      "Various subfields of AI research are centered around particular goals and the use of particular tools. The traditional goals of AI research include learning, reasoning, knowledge representation, planning, natural language processing, perception, and support for robotics.[a] To reach these goals, AI researchers have adapted and integrated a wide range of techniques, including search and mathematical optimization, formal logic, artificial neural networks, and methods based on statistics, operations research, and economics.[b] AI also draws upon psychology, linguistics, philosophy, neuroscience, and other fields.[4] Some companies, such as OpenAI, Google DeepMind and Meta,[5] aim to create artificial general intelligence (AGI)—AI that can complete virtually any cognitive task at least as well as a human.\n",
      "\n",
      "Artificial intelligence was founded as an academic discipline in 1956,[6] and the field went through multiple cycles of optimism throughout its history,[7][8] followed by periods of disappointment and loss of funding, known as AI winters.[9][10] Funding and interest vastly increased after 2012 when graphics processing units started being used to accelerate neural networks and deep learning outperformed previous AI techniques.[11] This growth accelerated further after 2017 with the transformer architecture.[12] In the 2020s, an ongoing period of rapid progress in advanced generative AI became known as the AI boom. Generative AI's ability to create and modify content has led to several unintended consequences and harms, which has raised ethical concerns about AI's long-term effects and potential existential risks, prompting discussions about regulatory policies to ensure the safety and benefits of the technology.\n",
      "You are an expert in creating engaging and challenging multiple choice questions (MCQs) for educational purposes.\n",
      "Generate 5 multiple choice questions (MCQs) in the subject of Aritificial Intelligence in the tone of simple.\n",
      "Each question should have 4 options (A, B, C, D) and one correct answer.\n",
      "**Important:** Include a field called \"correct_answer\" for each question indicating the correct option (A, B, C, or D).\n",
      "Provide the output in the following JSON format exactly: {\"1\": {\"question\": \"string\", \"options\": {\"A\": \"string\", \"B\": \"string\", \"C\": \"string\", \"D\": \"string\"}, \" correct answer\": \"string\"}, \"2\": {\"question\": \"string\", \"options\": {\"A\": \"string\", \"B\": \"string\", \"C\": \"string\", \"D\": \"string\"}, \" correct answer\": \"string\"}, \"3\": {\"question\": \"string\", \"options\": {\"A\": \"string\", \"B\": \"string\", \"C\": \"string\", \"D\": \"string\"}, \" correct answer\": \"string\"}}.\n",
      "Ensure the questions are clear, concise, and relevant to the provided text.\n",
      "Questions should not be repeated.\n",
      "\u001b[0m\n"
     ]
    },
    {
     "name": "stderr",
     "output_type": "stream",
     "text": [
      "Error in StdOutCallbackHandler.on_chain_start callback: AttributeError(\"'NoneType' object has no attribute 'get'\")\n"
     ]
    },
    {
     "name": "stdout",
     "output_type": "stream",
     "text": [
      "\n",
      "\u001b[1m> Finished chain.\u001b[0m\n",
      "Prompt after formatting:\n",
      "\u001b[32;1m\u001b[1;3mYou are an english expert. Giver multiple choice questions (MCQs) for Aritificial Intelligence \" \"You need to evaluate the complexity of the questions \" \" \"Update the quiz questions which needs to be simplified or made complex based on the complexity level \" \" \"Quiz mcqs: ```json\n",
      "{\n",
      "  \"1\": {\n",
      "    \"question\": \"When was the term 'Artificial Intelligence' first coined?\",\n",
      "    \"options\": {\n",
      "      \"A\": \"1956\",\n",
      "      \"B\": \"1959\",\n",
      "      \"C\": \"1965\",\n",
      "      \"D\": \"1973\"\n",
      "    },\n",
      "    \"correct_answer\": \"A\"\n",
      "  },\n",
      "  \"2\": {\n",
      "    \"question\": \"What is a main goal of AI research?\",\n",
      "    \"options\": {\n",
      "      \"A\": \"Creating social media\",\n",
      "      \"B\": \"Learning and reasoning\",\n",
      "      \"C\": \"Manufacturing products\",\n",
      "      \"D\": \"Developing video games\"\n",
      "    },\n",
      "    \"correct_answer\": \"B\"\n",
      "  },\n",
      "  \"3\": {\n",
      "    \"question\": \"Which of the following is NOT a high-profile application of AI?\",\n",
      "    \"options\": {\n",
      "      \"A\": \"Google Search\",\n",
      "      \"B\": \"Climate change modeling\",\n",
      "      \"C\": \"Siri\",\n",
      "      \"D\": \"Autonomous vehicles\"\n",
      "    },\n",
      "    \"correct_answer\": \"B\"\n",
      "  },\n",
      "  \"4\": {\n",
      "    \"question\": \"What led to increased interest in AI after 2012?\",\n",
      "    \"options\": {\n",
      "      \"A\": \"The invention of smartphones\",\n",
      "      \"B\": \"The use of graphics processing units for deep learning\",\n",
      "      \"C\": \"The launch of social media platforms\",\n",
      "      \"D\": \"The popularity of video games\"\n",
      "    },\n",
      "    \"correct_answer\": \"B\"\n",
      "  },\n",
      "  \"5\": {\n",
      "    \"question\": \"What do companies like OpenAI aim to create?\",\n",
      "    \"options\": {\n",
      "      \"A\": \"Artificial Narrow Intelligence\",\n",
      "      \"B\": \"Artificial General Intelligence\",\n",
      "      \"C\": \"Artificial Creative Intelligence\",\n",
      "      \"D\": \"Artificial Emotional Intelligence\"\n",
      "    },\n",
      "    \"correct_answer\": \"B\"\n",
      "  }\n",
      "}\n",
      "``` \" \n",
      "you can check from above quiz mcqs and update the questions \u001b[0m\n",
      "\n",
      "\u001b[1m> Finished chain.\u001b[0m\n",
      "\n",
      "\u001b[1m> Finished chain.\u001b[0m\n"
     ]
    }
   ],
   "source": [
    "#token usage tracking in langchain\n",
    "from langchain_community.callbacks import get_openai_callback\n",
    "\n",
    "with get_openai_callback() as cb:\n",
    "    response=generate_evaluate_chain(\n",
    "        {\n",
    "        \"text\":text,\n",
    "        \"number\":number,\n",
    "        'subject':subject,\n",
    "        'tone':tone,\n",
    "        \"response_json\":json.dumps(response_json)\n",
    "    })"
   ]
  },
  {
   "cell_type": "code",
   "execution_count": 23,
   "id": "97e7ca0c",
   "metadata": {},
   "outputs": [
    {
     "name": "stdout",
     "output_type": "stream",
     "text": [
      "2942\n",
      "1917\n",
      "0.0009025499999999999\n",
      "1025\n"
     ]
    }
   ],
   "source": [
    "print(cb.total_tokens)\n",
    "print(cb.prompt_tokens)\n",
    "print(cb.total_cost)\n",
    "print(cb.completion_tokens)"
   ]
  },
  {
   "cell_type": "code",
   "execution_count": 28,
   "id": "05aeafe0",
   "metadata": {},
   "outputs": [
    {
     "data": {
      "text/plain": [
       "{'text': 'Machine Learning:\\nThe term machine learning was coined in 1959 by Arthur Samuel, an IBM employee and pioneer in the field of computer gaming and artificial intelligence.\\n The synonym self-teaching computers was also used in this time period.\\n\\nThe earliest machine learning program was introduced in the 1950s when Arthur Samuel invented a computer program that calculated the winning chance in checkers for each side, but the history of machine learning roots back to decades of human desire and effort to study human cognitive processes.[10] In 1949, Canadian psychologist Donald Hebb published the book The Organization of Behavior, in which he introduced a theoretical neural structure formed by certain interactions among nerve cells.[11] Hebb\\'s model of neurons interacting with one another set a groundwork for how AIs and machine learning algorithms work under nodes, or artificial neurons used by computers to communicate data.[10] Other researchers who have studied human cognitive systems contributed to the modern machine learning technologies as well, including logician Walter Pitts and Warren McCulloch, who proposed the early mathematical models of neural networks to come up with algorithms that mirror human thought processes.\\n\\nBy the early 1960s, an experimental \"learning machine\" with punched tape memory, called Cybertron, had been developed by Raytheon Company to analyse sonar signals, electrocardiograms, and speech patterns using rudimentary reinforcement learning. It was repetitively \"trained\" by a human operator/teacher to recognise patterns and equipped with a \"goof\" button to cause it to reevaluate incorrect decisions.[12] A representative book on research into machine learning during the 1960s was Nilsson\\'s book on Learning Machines, dealing mostly with machine learning for pattern classification.[13] Interest related to pattern recognition continued into the 1970s, as described by Duda and Hart in 1973.[14] In 1981 a report was given on using teaching strategies so that an artificial neural network learns to recognise 40 characters (26 letters, 10 digits, and 4 special symbols) from a computer terminal.\\n\\nTom M. Mitchell provided a widely quoted, more formal definition of the algorithms studied in the machine learning field: \"A computer program is said to learn from experience E with respect to some class of tasks T and performance measure P if its performance at tasks in T, as measured by P, improves with experience E.\"[16] This definition of the tasks in which machine learning is concerned offers a fundamentally operational definition rather than defining the field in cognitive terms. This follows Alan Turing\\'s proposal in his paper \"Computing Machinery and Intelligence\", in which the question \"Can machines think?\" is replaced with the question \"Can machines do what we (as thinking entities) can do?\".\\n\\nModern day Machine Learning algorithms are broken into 3 algorithms types: Supervised Learning Algorithms, Unsupervised Learning Algorithms, and Reinforcement Learning Algorithms.\\n\\nCurrent Supervised Learning Algorithms have objectives of classification and regression.\\nCurrent Unsupervised Learning Algorithms have objectives of clustering, dimensionality reduction, and association rule.\\nCurrent Reinforcement Learning Algorithms focus on decisions that must be made with respect to some previous, unkown time and are broken down to either be studies of model based methods, and model free methods.\\n\\nAritificial Intelligence:\\nArtificial intelligence (AI) is the capability of computational systems to perform tasks typically associated with human intelligence, such as learning, reasoning, problem-solving, perception, and decision-making. It is a field of research in computer science that develops and studies methods and software that enable machines to perceive their environment and use learning and intelligence to take actions that maximize their chances of achieving defined goals.[1]\\n\\nHigh-profile applications of AI include advanced web search engines (e.g., Google Search); recommendation systems (used by YouTube, Amazon, and Netflix); virtual assistants (e.g., Google Assistant, Siri, and Alexa); autonomous vehicles (e.g., Waymo); generative and creative tools (e.g., language models and AI art); and superhuman play and analysis in strategy games (e.g., chess and Go). However, many AI applications are not perceived as AI: \"A lot of cutting edge AI has filtered into general applications, often without being called AI because once something becomes useful enough and common enough it\\'s not labeled AI anymore.\"[2][3]\\n\\nVarious subfields of AI research are centered around particular goals and the use of particular tools. The traditional goals of AI research include learning, reasoning, knowledge representation, planning, natural language processing, perception, and support for robotics.[a] To reach these goals, AI researchers have adapted and integrated a wide range of techniques, including search and mathematical optimization, formal logic, artificial neural networks, and methods based on statistics, operations research, and economics.[b] AI also draws upon psychology, linguistics, philosophy, neuroscience, and other fields.[4] Some companies, such as OpenAI, Google DeepMind and Meta,[5] aim to create artificial general intelligence (AGI)—AI that can complete virtually any cognitive task at least as well as a human.\\n\\nArtificial intelligence was founded as an academic discipline in 1956,[6] and the field went through multiple cycles of optimism throughout its history,[7][8] followed by periods of disappointment and loss of funding, known as AI winters.[9][10] Funding and interest vastly increased after 2012 when graphics processing units started being used to accelerate neural networks and deep learning outperformed previous AI techniques.[11] This growth accelerated further after 2017 with the transformer architecture.[12] In the 2020s, an ongoing period of rapid progress in advanced generative AI became known as the AI boom. Generative AI\\'s ability to create and modify content has led to several unintended consequences and harms, which has raised ethical concerns about AI\\'s long-term effects and potential existential risks, prompting discussions about regulatory policies to ensure the safety and benefits of the technology.',\n",
       " 'number': 5,\n",
       " 'subject': 'Aritificial Intelligence',\n",
       " 'tone': 'simple',\n",
       " 'response_json': '{\"1\": {\"question\": \"string\", \"options\": {\"A\": \"string\", \"B\": \"string\", \"C\": \"string\", \"D\": \"string\"}, \" correct answer\": \"string\"}, \"2\": {\"question\": \"string\", \"options\": {\"A\": \"string\", \"B\": \"string\", \"C\": \"string\", \"D\": \"string\"}, \" correct answer\": \"string\"}, \"3\": {\"question\": \"string\", \"options\": {\"A\": \"string\", \"B\": \"string\", \"C\": \"string\", \"D\": \"string\"}, \" correct answer\": \"string\"}}',\n",
       " 'quiz': '```json\\n{\\n  \"1\": {\\n    \"question\": \"When was the term \\'Artificial Intelligence\\' first coined?\",\\n    \"options\": {\\n      \"A\": \"1956\",\\n      \"B\": \"1959\",\\n      \"C\": \"1965\",\\n      \"D\": \"1973\"\\n    },\\n    \"correct_answer\": \"A\"\\n  },\\n  \"2\": {\\n    \"question\": \"What is a main goal of AI research?\",\\n    \"options\": {\\n      \"A\": \"Creating social media\",\\n      \"B\": \"Learning and reasoning\",\\n      \"C\": \"Manufacturing products\",\\n      \"D\": \"Developing video games\"\\n    },\\n    \"correct_answer\": \"B\"\\n  },\\n  \"3\": {\\n    \"question\": \"Which of the following is NOT a high-profile application of AI?\",\\n    \"options\": {\\n      \"A\": \"Google Search\",\\n      \"B\": \"Climate change modeling\",\\n      \"C\": \"Siri\",\\n      \"D\": \"Autonomous vehicles\"\\n    },\\n    \"correct_answer\": \"B\"\\n  },\\n  \"4\": {\\n    \"question\": \"What led to increased interest in AI after 2012?\",\\n    \"options\": {\\n      \"A\": \"The invention of smartphones\",\\n      \"B\": \"The use of graphics processing units for deep learning\",\\n      \"C\": \"The launch of social media platforms\",\\n      \"D\": \"The popularity of video games\"\\n    },\\n    \"correct_answer\": \"B\"\\n  },\\n  \"5\": {\\n    \"question\": \"What do companies like OpenAI aim to create?\",\\n    \"options\": {\\n      \"A\": \"Artificial Narrow Intelligence\",\\n      \"B\": \"Artificial General Intelligence\",\\n      \"C\": \"Artificial Creative Intelligence\",\\n      \"D\": \"Artificial Emotional Intelligence\"\\n    },\\n    \"correct_answer\": \"B\"\\n  }\\n}\\n```',\n",
       " 'reviewed_quiz': 'Here’s an evaluation and update of the quiz questions based on their complexity levels. I will simplify questions that are too complex and add complexity to those that are relatively easy.\\n\\n### Updated Quiz MCQs\\n\\n```json\\n{\\n  \"1\": {\\n    \"question\": \"In which year was the term \\'Artificial Intelligence\\' introduced?\",\\n    \"options\": {\\n      \"A\": \"1956\",\\n      \"B\": \"1959\",\\n      \"C\": \"1965\",\\n      \"D\": \"1973\"\\n    },\\n    \"correct_answer\": \"A\"\\n  },\\n  \"2\": {\\n    \"question\": \"What is a primary objective of artificial intelligence research?\",\\n    \"options\": {\\n      \"A\": \"To enhance social media interactions\",\\n      \"B\": \"To develop systems that can learn and reason\",\\n      \"C\": \"To streamline manufacturing processes\",\\n      \"D\": \"To create immersive video games\"\\n    },\\n    \"correct_answer\": \"B\"\\n  },\\n  \"3\": {\\n    \"question\": \"Which of the following is least commonly recognized as an AI application?\",\\n    \"options\": {\\n      \"A\": \"Google Search\",\\n      \"B\": \"Modeling climate change\",\\n      \"C\": \"Voice assistants like Siri\",\\n      \"D\": \"Self-driving cars\"\\n    },\\n    \"correct_answer\": \"B\"\\n  },\\n  \"4\": {\\n    \"question\": \"What significant advancement in technology sparked renewed interest in AI research post-2012?\",\\n    \"options\": {\\n      \"A\": \"The rise of smartphones\",\\n      \"B\": \"The adoption of graphics processing units for deep learning tasks\",\\n      \"C\": \"The emergence of new social media platforms\",\\n      \"D\": \"The gaming industry\\'s boom\"\\n    },\\n    \"correct_answer\": \"B\"\\n  },\\n  \"5\": {\\n    \"question\": \"What is the ultimate goal of organizations like OpenAI in developing AI systems?\",\\n    \"options\": {\\n      \"A\": \"To achieve Artificial Narrow Intelligence (ANI)\",\\n      \"B\": \"To realize Artificial General Intelligence (AGI)\",\\n      \"C\": \"To explore Artificial Creative Intelligence (ACI)\",\\n      \"D\": \"To develop Artificial Emotional Intelligence (AEI)\"\\n    },\\n    \"correct_answer\": \"B\"\\n  }\\n}\\n```\\n\\n### Complexity Evaluation and Updates:\\n\\n1. **Question 1**: Simplified for clarity. \"When was\" changed to \"In which year was,\" which is more straightforward.\\n  \\n2. **Question 2**: The phrasing was slightly adjusted to clarify the objective of AI research while maintaining the original complexity.\\n\\n3. **Question 3**: The question was rephrased to make it clearer while still retaining a moderate level of complexity.\\n\\n4. **Question 4**: This question was kept at the same complexity level but rephrased for clarity and flow.\\n\\n5. **Question 5**: The question was adjusted for clarity but kept at a higher complexity level since it touches on different types of AI.\\n\\nOverall, the adjustments aim to enhance clarity without overly simplifying the questions, ensuring they remain informative and appropriate for the audience\\'s understanding of Artificial Intelligence.'}"
      ]
     },
     "execution_count": 28,
     "metadata": {},
     "output_type": "execute_result"
    }
   ],
   "source": [
    "response"
   ]
  },
  {
   "cell_type": "code",
   "execution_count": 29,
   "id": "a6090a49",
   "metadata": {},
   "outputs": [],
   "source": [
    "quiz=response.get(\"quiz\")"
   ]
  },
  {
   "cell_type": "code",
   "execution_count": 30,
   "id": "f3fa0df7",
   "metadata": {},
   "outputs": [
    {
     "name": "stdout",
     "output_type": "stream",
     "text": [
      "{'1': {'question': \"When was the term 'Artificial Intelligence' first coined?\", 'options': {'A': '1956', 'B': '1959', 'C': '1965', 'D': '1973'}, 'correct_answer': 'A'}, '2': {'question': 'What is a main goal of AI research?', 'options': {'A': 'Creating social media', 'B': 'Learning and reasoning', 'C': 'Manufacturing products', 'D': 'Developing video games'}, 'correct_answer': 'B'}, '3': {'question': 'Which of the following is NOT a high-profile application of AI?', 'options': {'A': 'Google Search', 'B': 'Climate change modeling', 'C': 'Siri', 'D': 'Autonomous vehicles'}, 'correct_answer': 'B'}, '4': {'question': 'What led to increased interest in AI after 2012?', 'options': {'A': 'The invention of smartphones', 'B': 'The use of graphics processing units for deep learning', 'C': 'The launch of social media platforms', 'D': 'The popularity of video games'}, 'correct_answer': 'B'}, '5': {'question': 'What do companies like OpenAI aim to create?', 'options': {'A': 'Artificial Narrow Intelligence', 'B': 'Artificial General Intelligence', 'C': 'Artificial Creative Intelligence', 'D': 'Artificial Emotional Intelligence'}, 'correct_answer': 'B'}}\n"
     ]
    }
   ],
   "source": [
    "import re\n",
    "\n",
    "quiz_clean = re.sub(r\"^```json|```$\", \"\", quiz, flags=re.MULTILINE).strip()\n",
    "\n",
    "quiz_dict = json.loads(quiz_clean)\n",
    "print(quiz_dict)"
   ]
  },
  {
   "cell_type": "code",
   "execution_count": 27,
   "id": "8ba5a354",
   "metadata": {},
   "outputs": [],
   "source": [
    "quiz_table=[]\n",
    "for key, value in quiz_dict.items():\n",
    "    question = value.get(\"question\", \"\")\n",
    "    options = value.get(\"options\", {})\n",
    "    correct_answer = value.get(\"correct answer\", \"\")\n",
    "    \n",
    "    quiz_table.append({\n",
    "        \"Question\": question,\n",
    "        \"Option A\": options.get(\"A\", \"\"),\n",
    "        \"Option B\": options.get(\"B\", \"\"),\n",
    "        \"Option C\": options.get(\"C\", \"\"),\n",
    "        \"Option D\": options.get(\"D\", \"\"),\n",
    "        \"Correct Answer\": correct_answer\n",
    "    })\n"
   ]
  },
  {
   "cell_type": "code",
   "execution_count": 31,
   "id": "4c11e555",
   "metadata": {},
   "outputs": [
    {
     "data": {
      "text/plain": [
       "[{'Question': \"When was the term 'Artificial Intelligence' first coined?\",\n",
       "  'Option A': '1956',\n",
       "  'Option B': '1959',\n",
       "  'Option C': '1965',\n",
       "  'Option D': '1973',\n",
       "  'Correct Answer': ''},\n",
       " {'Question': 'What is a main goal of AI research?',\n",
       "  'Option A': 'Creating social media',\n",
       "  'Option B': 'Learning and reasoning',\n",
       "  'Option C': 'Manufacturing products',\n",
       "  'Option D': 'Developing video games',\n",
       "  'Correct Answer': ''},\n",
       " {'Question': 'Which of the following is NOT a high-profile application of AI?',\n",
       "  'Option A': 'Google Search',\n",
       "  'Option B': 'Climate change modeling',\n",
       "  'Option C': 'Siri',\n",
       "  'Option D': 'Autonomous vehicles',\n",
       "  'Correct Answer': ''},\n",
       " {'Question': 'What led to increased interest in AI after 2012?',\n",
       "  'Option A': 'The invention of smartphones',\n",
       "  'Option B': 'The use of graphics processing units for deep learning',\n",
       "  'Option C': 'The launch of social media platforms',\n",
       "  'Option D': 'The popularity of video games',\n",
       "  'Correct Answer': ''},\n",
       " {'Question': 'What do companies like OpenAI aim to create?',\n",
       "  'Option A': 'Artificial Narrow Intelligence',\n",
       "  'Option B': 'Artificial General Intelligence',\n",
       "  'Option C': 'Artificial Creative Intelligence',\n",
       "  'Option D': 'Artificial Emotional Intelligence',\n",
       "  'Correct Answer': ''}]"
      ]
     },
     "execution_count": 31,
     "metadata": {},
     "output_type": "execute_result"
    }
   ],
   "source": [
    "quiz_table\n"
   ]
  },
  {
   "cell_type": "code",
   "execution_count": 1,
   "id": "8f9b1ca4",
   "metadata": {},
   "outputs": [
    {
     "ename": "NameError",
     "evalue": "name 'pd' is not defined",
     "output_type": "error",
     "traceback": [
      "\u001b[1;31m---------------------------------------------------------------------------\u001b[0m",
      "\u001b[1;31mNameError\u001b[0m                                 Traceback (most recent call last)",
      "Cell \u001b[1;32mIn[1], line 1\u001b[0m\n\u001b[1;32m----> 1\u001b[0m df\u001b[38;5;241m=\u001b[39m\u001b[43mpd\u001b[49m\u001b[38;5;241m.\u001b[39mDataFrame(quiz_table)\n\u001b[0;32m      2\u001b[0m df\n",
      "\u001b[1;31mNameError\u001b[0m: name 'pd' is not defined"
     ]
    }
   ],
   "source": [
    "df=pd.DataFrame(quiz_table)\n",
    "df"
   ]
  },
  {
   "cell_type": "code",
   "execution_count": 34,
   "id": "f1f065ca",
   "metadata": {},
   "outputs": [],
   "source": [
    "df.to_csv('quiz.csv', index=False)"
   ]
  }
 ],
 "metadata": {
  "kernelspec": {
   "display_name": "Python 3",
   "language": "python",
   "name": "python3"
  },
  "language_info": {
   "codemirror_mode": {
    "name": "ipython",
    "version": 3
   },
   "file_extension": ".py",
   "mimetype": "text/x-python",
   "name": "python",
   "nbconvert_exporter": "python",
   "pygments_lexer": "ipython3",
   "version": "3.8.20"
  }
 },
 "nbformat": 4,
 "nbformat_minor": 5
}
